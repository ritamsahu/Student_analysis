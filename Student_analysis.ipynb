{
  "cells": [
    {
      "cell_type": "markdown",
      "metadata": {
        "id": "view-in-github",
        "colab_type": "text"
      },
      "source": [
        "<a href=\"https://colab.research.google.com/github/ritamsahu/Student_analysis/blob/main/Student_analysis.ipynb\" target=\"_parent\"><img src=\"https://colab.research.google.com/assets/colab-badge.svg\" alt=\"Open In Colab\"/></a>"
      ]
    },
    {
      "cell_type": "markdown",
      "metadata": {
        "id": "9OB3WaCFNfIJ"
      },
      "source": [
        "#**Libraries**"
      ]
    },
    {
      "cell_type": "markdown",
      "metadata": {
        "id": "naAycTg8pPnZ"
      },
      "source": [
        "Importing the Dependancies"
      ]
    },
    {
      "cell_type": "code",
      "execution_count": 1,
      "metadata": {
        "id": "GDlegl7Fpcpb"
      },
      "outputs": [],
      "source": [
        "import pandas as pd\n",
        "import numpy as np\n",
        "import seaborn as sns\n",
        "import matplotlib.pyplot as plt\n",
        "from plotly.subplots import make_subplots\n",
        "import plotly.express as px\n",
        "import bokeh.plotting as bp"
      ]
    },
    {
      "cell_type": "markdown",
      "metadata": {
        "id": "UiA7mJ4cOFUn"
      },
      "source": [
        "# **Load Dataset**"
      ]
    },
    {
      "cell_type": "code",
      "execution_count": 2,
      "metadata": {
        "id": "3dX_s1hzOA-_"
      },
      "outputs": [],
      "source": [
        "# Load the student dataset into a Pandas DataFrame\n",
        "df = pd.read_excel('/content/student_analysis.xlsx')"
      ]
    },
    {
      "cell_type": "markdown",
      "metadata": {
        "id": "gCAWtRH5OXF9"
      },
      "source": [
        "# **Statistical Summary**"
      ]
    },
    {
      "cell_type": "code",
      "execution_count": 3,
      "metadata": {
        "colab": {
          "base_uri": "https://localhost:8080/",
          "height": 300
        },
        "id": "sYH1xj2zG8GH",
        "outputId": "8fc32fac-bc73-47b4-8322-ea72938c0325"
      },
      "outputs": [
        {
          "output_type": "execute_result",
          "data": {
            "text/plain": [
              "              Age  Pocket_money      Height      Weight         BMI  \\\n",
              "count  129.000000    129.000000  129.000000  129.000000  129.000000   \n",
              "mean    20.062016   2186.046512  159.400419   53.023256   20.194806   \n",
              "std      1.951570   2092.182032   14.580086   10.210645    5.104923   \n",
              "min     17.000000      0.000000   62.000000   35.000000    1.630000   \n",
              "25%     19.000000    500.000000  155.000000   46.000000   17.700000   \n",
              "50%     20.000000   2000.000000  161.544000   52.000000   20.300000   \n",
              "75%     21.000000   3000.000000  166.000000   60.000000   23.000000   \n",
              "max     27.000000  10000.000000  198.120000   83.000000   39.000000   \n",
              "\n",
              "       family_income_monthly  Distance_home_to_college  \\\n",
              "count             129.000000                129.000000   \n",
              "mean            11131.782946                 14.759690   \n",
              "std             14511.509357                 11.276202   \n",
              "min              2000.000000                  1.000000   \n",
              "25%              5000.000000                  7.000000   \n",
              "50%              5000.000000                 12.000000   \n",
              "75%             10000.000000                 20.000000   \n",
              "max            100000.000000                 50.000000   \n",
              "\n",
              "       Rate your Department (0-10)  \n",
              "count                   128.000000  \n",
              "mean                      8.187500  \n",
              "std                       2.490138  \n",
              "min                       1.000000  \n",
              "25%                       8.000000  \n",
              "50%                       9.000000  \n",
              "75%                      10.000000  \n",
              "max                      10.000000  "
            ],
            "text/html": [
              "\n",
              "  <div id=\"df-e7fda3b4-c81c-4cae-8f40-3f6141592068\">\n",
              "    <div class=\"colab-df-container\">\n",
              "      <div>\n",
              "<style scoped>\n",
              "    .dataframe tbody tr th:only-of-type {\n",
              "        vertical-align: middle;\n",
              "    }\n",
              "\n",
              "    .dataframe tbody tr th {\n",
              "        vertical-align: top;\n",
              "    }\n",
              "\n",
              "    .dataframe thead th {\n",
              "        text-align: right;\n",
              "    }\n",
              "</style>\n",
              "<table border=\"1\" class=\"dataframe\">\n",
              "  <thead>\n",
              "    <tr style=\"text-align: right;\">\n",
              "      <th></th>\n",
              "      <th>Age</th>\n",
              "      <th>Pocket_money</th>\n",
              "      <th>Height</th>\n",
              "      <th>Weight</th>\n",
              "      <th>BMI</th>\n",
              "      <th>family_income_monthly</th>\n",
              "      <th>Distance_home_to_college</th>\n",
              "      <th>Rate your Department (0-10)</th>\n",
              "    </tr>\n",
              "  </thead>\n",
              "  <tbody>\n",
              "    <tr>\n",
              "      <th>count</th>\n",
              "      <td>129.000000</td>\n",
              "      <td>129.000000</td>\n",
              "      <td>129.000000</td>\n",
              "      <td>129.000000</td>\n",
              "      <td>129.000000</td>\n",
              "      <td>129.000000</td>\n",
              "      <td>129.000000</td>\n",
              "      <td>128.000000</td>\n",
              "    </tr>\n",
              "    <tr>\n",
              "      <th>mean</th>\n",
              "      <td>20.062016</td>\n",
              "      <td>2186.046512</td>\n",
              "      <td>159.400419</td>\n",
              "      <td>53.023256</td>\n",
              "      <td>20.194806</td>\n",
              "      <td>11131.782946</td>\n",
              "      <td>14.759690</td>\n",
              "      <td>8.187500</td>\n",
              "    </tr>\n",
              "    <tr>\n",
              "      <th>std</th>\n",
              "      <td>1.951570</td>\n",
              "      <td>2092.182032</td>\n",
              "      <td>14.580086</td>\n",
              "      <td>10.210645</td>\n",
              "      <td>5.104923</td>\n",
              "      <td>14511.509357</td>\n",
              "      <td>11.276202</td>\n",
              "      <td>2.490138</td>\n",
              "    </tr>\n",
              "    <tr>\n",
              "      <th>min</th>\n",
              "      <td>17.000000</td>\n",
              "      <td>0.000000</td>\n",
              "      <td>62.000000</td>\n",
              "      <td>35.000000</td>\n",
              "      <td>1.630000</td>\n",
              "      <td>2000.000000</td>\n",
              "      <td>1.000000</td>\n",
              "      <td>1.000000</td>\n",
              "    </tr>\n",
              "    <tr>\n",
              "      <th>25%</th>\n",
              "      <td>19.000000</td>\n",
              "      <td>500.000000</td>\n",
              "      <td>155.000000</td>\n",
              "      <td>46.000000</td>\n",
              "      <td>17.700000</td>\n",
              "      <td>5000.000000</td>\n",
              "      <td>7.000000</td>\n",
              "      <td>8.000000</td>\n",
              "    </tr>\n",
              "    <tr>\n",
              "      <th>50%</th>\n",
              "      <td>20.000000</td>\n",
              "      <td>2000.000000</td>\n",
              "      <td>161.544000</td>\n",
              "      <td>52.000000</td>\n",
              "      <td>20.300000</td>\n",
              "      <td>5000.000000</td>\n",
              "      <td>12.000000</td>\n",
              "      <td>9.000000</td>\n",
              "    </tr>\n",
              "    <tr>\n",
              "      <th>75%</th>\n",
              "      <td>21.000000</td>\n",
              "      <td>3000.000000</td>\n",
              "      <td>166.000000</td>\n",
              "      <td>60.000000</td>\n",
              "      <td>23.000000</td>\n",
              "      <td>10000.000000</td>\n",
              "      <td>20.000000</td>\n",
              "      <td>10.000000</td>\n",
              "    </tr>\n",
              "    <tr>\n",
              "      <th>max</th>\n",
              "      <td>27.000000</td>\n",
              "      <td>10000.000000</td>\n",
              "      <td>198.120000</td>\n",
              "      <td>83.000000</td>\n",
              "      <td>39.000000</td>\n",
              "      <td>100000.000000</td>\n",
              "      <td>50.000000</td>\n",
              "      <td>10.000000</td>\n",
              "    </tr>\n",
              "  </tbody>\n",
              "</table>\n",
              "</div>\n",
              "      <button class=\"colab-df-convert\" onclick=\"convertToInteractive('df-e7fda3b4-c81c-4cae-8f40-3f6141592068')\"\n",
              "              title=\"Convert this dataframe to an interactive table.\"\n",
              "              style=\"display:none;\">\n",
              "        \n",
              "  <svg xmlns=\"http://www.w3.org/2000/svg\" height=\"24px\"viewBox=\"0 0 24 24\"\n",
              "       width=\"24px\">\n",
              "    <path d=\"M0 0h24v24H0V0z\" fill=\"none\"/>\n",
              "    <path d=\"M18.56 5.44l.94 2.06.94-2.06 2.06-.94-2.06-.94-.94-2.06-.94 2.06-2.06.94zm-11 1L8.5 8.5l.94-2.06 2.06-.94-2.06-.94L8.5 2.5l-.94 2.06-2.06.94zm10 10l.94 2.06.94-2.06 2.06-.94-2.06-.94-.94-2.06-.94 2.06-2.06.94z\"/><path d=\"M17.41 7.96l-1.37-1.37c-.4-.4-.92-.59-1.43-.59-.52 0-1.04.2-1.43.59L10.3 9.45l-7.72 7.72c-.78.78-.78 2.05 0 2.83L4 21.41c.39.39.9.59 1.41.59.51 0 1.02-.2 1.41-.59l7.78-7.78 2.81-2.81c.8-.78.8-2.07 0-2.86zM5.41 20L4 18.59l7.72-7.72 1.47 1.35L5.41 20z\"/>\n",
              "  </svg>\n",
              "      </button>\n",
              "      \n",
              "  <style>\n",
              "    .colab-df-container {\n",
              "      display:flex;\n",
              "      flex-wrap:wrap;\n",
              "      gap: 12px;\n",
              "    }\n",
              "\n",
              "    .colab-df-convert {\n",
              "      background-color: #E8F0FE;\n",
              "      border: none;\n",
              "      border-radius: 50%;\n",
              "      cursor: pointer;\n",
              "      display: none;\n",
              "      fill: #1967D2;\n",
              "      height: 32px;\n",
              "      padding: 0 0 0 0;\n",
              "      width: 32px;\n",
              "    }\n",
              "\n",
              "    .colab-df-convert:hover {\n",
              "      background-color: #E2EBFA;\n",
              "      box-shadow: 0px 1px 2px rgba(60, 64, 67, 0.3), 0px 1px 3px 1px rgba(60, 64, 67, 0.15);\n",
              "      fill: #174EA6;\n",
              "    }\n",
              "\n",
              "    [theme=dark] .colab-df-convert {\n",
              "      background-color: #3B4455;\n",
              "      fill: #D2E3FC;\n",
              "    }\n",
              "\n",
              "    [theme=dark] .colab-df-convert:hover {\n",
              "      background-color: #434B5C;\n",
              "      box-shadow: 0px 1px 3px 1px rgba(0, 0, 0, 0.15);\n",
              "      filter: drop-shadow(0px 1px 2px rgba(0, 0, 0, 0.3));\n",
              "      fill: #FFFFFF;\n",
              "    }\n",
              "  </style>\n",
              "\n",
              "      <script>\n",
              "        const buttonEl =\n",
              "          document.querySelector('#df-e7fda3b4-c81c-4cae-8f40-3f6141592068 button.colab-df-convert');\n",
              "        buttonEl.style.display =\n",
              "          google.colab.kernel.accessAllowed ? 'block' : 'none';\n",
              "\n",
              "        async function convertToInteractive(key) {\n",
              "          const element = document.querySelector('#df-e7fda3b4-c81c-4cae-8f40-3f6141592068');\n",
              "          const dataTable =\n",
              "            await google.colab.kernel.invokeFunction('convertToInteractive',\n",
              "                                                     [key], {});\n",
              "          if (!dataTable) return;\n",
              "\n",
              "          const docLinkHtml = 'Like what you see? Visit the ' +\n",
              "            '<a target=\"_blank\" href=https://colab.research.google.com/notebooks/data_table.ipynb>data table notebook</a>'\n",
              "            + ' to learn more about interactive tables.';\n",
              "          element.innerHTML = '';\n",
              "          dataTable['output_type'] = 'display_data';\n",
              "          await google.colab.output.renderOutput(dataTable, element);\n",
              "          const docLink = document.createElement('div');\n",
              "          docLink.innerHTML = docLinkHtml;\n",
              "          element.appendChild(docLink);\n",
              "        }\n",
              "      </script>\n",
              "    </div>\n",
              "  </div>\n",
              "  "
            ]
          },
          "metadata": {},
          "execution_count": 3
        }
      ],
      "source": [
        "df.describe()"
      ]
    },
    {
      "cell_type": "markdown",
      "metadata": {
        "id": "amrvd5sXQ2lw"
      },
      "source": [
        "# **Problem Statement**"
      ]
    },
    {
      "cell_type": "markdown",
      "metadata": {
        "id": "4NJ0EFmOQrfZ"
      },
      "source": [
        "![lightbulb.jpg](data:image/jpeg;base64,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)"
      ]
    },
    {
      "cell_type": "markdown",
      "metadata": {
        "id": "KitrgRKyNvJK"
      },
      "source": [
        "#**Demographic information**"
      ]
    },
    {
      "cell_type": "markdown",
      "metadata": {
        "id": "sZiG8JITGRcy"
      },
      "source": [
        "1.   What is the average height and weight of the students in the dataset?\n",
        "2.  What is the distribution of family income among the students?\n",
        "\n",
        "\n",
        "\n"
      ]
    },
    {
      "cell_type": "code",
      "execution_count": 4,
      "metadata": {
        "colab": {
          "base_uri": "https://localhost:8080/"
        },
        "id": "4H9vxxtypg6U",
        "outputId": "472abe02-6879-4c3d-94be-44f68ac9d509"
      },
      "outputs": [
        {
          "output_type": "stream",
          "name": "stdout",
          "text": [
            "Average Height (cm):  159.40041860465118\n",
            "Average Weight (kg):  53.02325581395349\n"
          ]
        }
      ],
      "source": [
        "\n",
        "# calculate average height and weight\n",
        "avg_height = df['Height'].mean()\n",
        "avg_weight = df['Weight'].mean()\n",
        "\n",
        "# print results\n",
        "print(\"Average Height (cm): \", avg_height)\n",
        "print(\"Average Weight (kg): \", avg_weight)\n"
      ]
    },
    {
      "cell_type": "code",
      "execution_count": 5,
      "metadata": {
        "colab": {
          "base_uri": "https://localhost:8080/",
          "height": 542
        },
        "id": "9kGoxVWuF7XU",
        "outputId": "ce2508b7-45c4-4909-d661-02042282b4f9"
      },
      "outputs": [
        {
          "output_type": "display_data",
          "data": {
            "text/html": [
              "<html>\n",
              "<head><meta charset=\"utf-8\" /></head>\n",
              "<body>\n",
              "    <div>            <script src=\"https://cdnjs.cloudflare.com/ajax/libs/mathjax/2.7.5/MathJax.js?config=TeX-AMS-MML_SVG\"></script><script type=\"text/javascript\">if (window.MathJax) {MathJax.Hub.Config({SVG: {font: \"STIX-Web\"}});}</script>                <script type=\"text/javascript\">window.PlotlyConfig = {MathJaxConfig: 'local'};</script>\n",
              "        <script src=\"https://cdn.plot.ly/plotly-2.8.3.min.js\"></script>                <div id=\"e5750e7c-ab95-41a7-b016-21dfc7df738d\" class=\"plotly-graph-div\" style=\"height:525px; width:100%;\"></div>            <script type=\"text/javascript\">                                    window.PLOTLYENV=window.PLOTLYENV || {};                                    if (document.getElementById(\"e5750e7c-ab95-41a7-b016-21dfc7df738d\")) {                    Plotly.newPlot(                        \"e5750e7c-ab95-41a7-b016-21dfc7df738d\",                        [{\"alignmentgroup\":\"True\",\"bingroup\":\"x\",\"hovertemplate\":\"family_income_monthly=%{x}<br>count=%{y}<extra></extra>\",\"legendgroup\":\"\",\"marker\":{\"color\":\"#636efa\",\"pattern\":{\"shape\":\"\"}},\"name\":\"\",\"nbinsx\":50,\"offsetgroup\":\"\",\"orientation\":\"v\",\"showlegend\":false,\"x\":[35000,60000,100000,5000,5000,5000,2000,42000,3000,10000,5000,5000,7000,20000,35000,7000,7000,50000,20000,10000,10000,4000,6000,5000,10000,10000,3000,5000,5000,3000,15000,3000,3000,5000,5000,35000,60000,60000,6000,15000,3000,3000,5000,3000,4000,20000,5000,5000,6000,5000,5000,10000,3000,5000,10000,5000,4800,3000,3000,10000,7000,3000,3000,3000,15000,10000,25000,6000,9000,3000,10000,8500,9000,5000,4000,4000,4000,10000,4000,4000,5000,5000,12000,3700,3000,5000,10000,5000,5000,5000,5000,10000,5000,3000,10000,10000,3000,60000,30000,30000,10000,5000,5000,5000,25000,10000,6000,30000,5000,4000,5000,5000,8000,10000,15000,10000,10000,6000,10000,10000,3000,5000,10000,10000,8000,5000,5000,3000,3000],\"xaxis\":\"x\",\"yaxis\":\"y\",\"type\":\"histogram\"}],                        {\"template\":{\"data\":{\"bar\":[{\"error_x\":{\"color\":\"#2a3f5f\"},\"error_y\":{\"color\":\"#2a3f5f\"},\"marker\":{\"line\":{\"color\":\"#E5ECF6\",\"width\":0.5},\"pattern\":{\"fillmode\":\"overlay\",\"size\":10,\"solidity\":0.2}},\"type\":\"bar\"}],\"barpolar\":[{\"marker\":{\"line\":{\"color\":\"#E5ECF6\",\"width\":0.5},\"pattern\":{\"fillmode\":\"overlay\",\"size\":10,\"solidity\":0.2}},\"type\":\"barpolar\"}],\"carpet\":[{\"aaxis\":{\"endlinecolor\":\"#2a3f5f\",\"gridcolor\":\"white\",\"linecolor\":\"white\",\"minorgridcolor\":\"white\",\"startlinecolor\":\"#2a3f5f\"},\"baxis\":{\"endlinecolor\":\"#2a3f5f\",\"gridcolor\":\"white\",\"linecolor\":\"white\",\"minorgridcolor\":\"white\",\"startlinecolor\":\"#2a3f5f\"},\"type\":\"carpet\"}],\"choropleth\":[{\"colorbar\":{\"outlinewidth\":0,\"ticks\":\"\"},\"type\":\"choropleth\"}],\"contour\":[{\"colorbar\":{\"outlinewidth\":0,\"ticks\":\"\"},\"colorscale\":[[0.0,\"#0d0887\"],[0.1111111111111111,\"#46039f\"],[0.2222222222222222,\"#7201a8\"],[0.3333333333333333,\"#9c179e\"],[0.4444444444444444,\"#bd3786\"],[0.5555555555555556,\"#d8576b\"],[0.6666666666666666,\"#ed7953\"],[0.7777777777777778,\"#fb9f3a\"],[0.8888888888888888,\"#fdca26\"],[1.0,\"#f0f921\"]],\"type\":\"contour\"}],\"contourcarpet\":[{\"colorbar\":{\"outlinewidth\":0,\"ticks\":\"\"},\"type\":\"contourcarpet\"}],\"heatmap\":[{\"colorbar\":{\"outlinewidth\":0,\"ticks\":\"\"},\"colorscale\":[[0.0,\"#0d0887\"],[0.1111111111111111,\"#46039f\"],[0.2222222222222222,\"#7201a8\"],[0.3333333333333333,\"#9c179e\"],[0.4444444444444444,\"#bd3786\"],[0.5555555555555556,\"#d8576b\"],[0.6666666666666666,\"#ed7953\"],[0.7777777777777778,\"#fb9f3a\"],[0.8888888888888888,\"#fdca26\"],[1.0,\"#f0f921\"]],\"type\":\"heatmap\"}],\"heatmapgl\":[{\"colorbar\":{\"outlinewidth\":0,\"ticks\":\"\"},\"colorscale\":[[0.0,\"#0d0887\"],[0.1111111111111111,\"#46039f\"],[0.2222222222222222,\"#7201a8\"],[0.3333333333333333,\"#9c179e\"],[0.4444444444444444,\"#bd3786\"],[0.5555555555555556,\"#d8576b\"],[0.6666666666666666,\"#ed7953\"],[0.7777777777777778,\"#fb9f3a\"],[0.8888888888888888,\"#fdca26\"],[1.0,\"#f0f921\"]],\"type\":\"heatmapgl\"}],\"histogram\":[{\"marker\":{\"pattern\":{\"fillmode\":\"overlay\",\"size\":10,\"solidity\":0.2}},\"type\":\"histogram\"}],\"histogram2d\":[{\"colorbar\":{\"outlinewidth\":0,\"ticks\":\"\"},\"colorscale\":[[0.0,\"#0d0887\"],[0.1111111111111111,\"#46039f\"],[0.2222222222222222,\"#7201a8\"],[0.3333333333333333,\"#9c179e\"],[0.4444444444444444,\"#bd3786\"],[0.5555555555555556,\"#d8576b\"],[0.6666666666666666,\"#ed7953\"],[0.7777777777777778,\"#fb9f3a\"],[0.8888888888888888,\"#fdca26\"],[1.0,\"#f0f921\"]],\"type\":\"histogram2d\"}],\"histogram2dcontour\":[{\"colorbar\":{\"outlinewidth\":0,\"ticks\":\"\"},\"colorscale\":[[0.0,\"#0d0887\"],[0.1111111111111111,\"#46039f\"],[0.2222222222222222,\"#7201a8\"],[0.3333333333333333,\"#9c179e\"],[0.4444444444444444,\"#bd3786\"],[0.5555555555555556,\"#d8576b\"],[0.6666666666666666,\"#ed7953\"],[0.7777777777777778,\"#fb9f3a\"],[0.8888888888888888,\"#fdca26\"],[1.0,\"#f0f921\"]],\"type\":\"histogram2dcontour\"}],\"mesh3d\":[{\"colorbar\":{\"outlinewidth\":0,\"ticks\":\"\"},\"type\":\"mesh3d\"}],\"parcoords\":[{\"line\":{\"colorbar\":{\"outlinewidth\":0,\"ticks\":\"\"}},\"type\":\"parcoords\"}],\"pie\":[{\"automargin\":true,\"type\":\"pie\"}],\"scatter\":[{\"marker\":{\"colorbar\":{\"outlinewidth\":0,\"ticks\":\"\"}},\"type\":\"scatter\"}],\"scatter3d\":[{\"line\":{\"colorbar\":{\"outlinewidth\":0,\"ticks\":\"\"}},\"marker\":{\"colorbar\":{\"outlinewidth\":0,\"ticks\":\"\"}},\"type\":\"scatter3d\"}],\"scattercarpet\":[{\"marker\":{\"colorbar\":{\"outlinewidth\":0,\"ticks\":\"\"}},\"type\":\"scattercarpet\"}],\"scattergeo\":[{\"marker\":{\"colorbar\":{\"outlinewidth\":0,\"ticks\":\"\"}},\"type\":\"scattergeo\"}],\"scattergl\":[{\"marker\":{\"colorbar\":{\"outlinewidth\":0,\"ticks\":\"\"}},\"type\":\"scattergl\"}],\"scattermapbox\":[{\"marker\":{\"colorbar\":{\"outlinewidth\":0,\"ticks\":\"\"}},\"type\":\"scattermapbox\"}],\"scatterpolar\":[{\"marker\":{\"colorbar\":{\"outlinewidth\":0,\"ticks\":\"\"}},\"type\":\"scatterpolar\"}],\"scatterpolargl\":[{\"marker\":{\"colorbar\":{\"outlinewidth\":0,\"ticks\":\"\"}},\"type\":\"scatterpolargl\"}],\"scatterternary\":[{\"marker\":{\"colorbar\":{\"outlinewidth\":0,\"ticks\":\"\"}},\"type\":\"scatterternary\"}],\"surface\":[{\"colorbar\":{\"outlinewidth\":0,\"ticks\":\"\"},\"colorscale\":[[0.0,\"#0d0887\"],[0.1111111111111111,\"#46039f\"],[0.2222222222222222,\"#7201a8\"],[0.3333333333333333,\"#9c179e\"],[0.4444444444444444,\"#bd3786\"],[0.5555555555555556,\"#d8576b\"],[0.6666666666666666,\"#ed7953\"],[0.7777777777777778,\"#fb9f3a\"],[0.8888888888888888,\"#fdca26\"],[1.0,\"#f0f921\"]],\"type\":\"surface\"}],\"table\":[{\"cells\":{\"fill\":{\"color\":\"#EBF0F8\"},\"line\":{\"color\":\"white\"}},\"header\":{\"fill\":{\"color\":\"#C8D4E3\"},\"line\":{\"color\":\"white\"}},\"type\":\"table\"}]},\"layout\":{\"annotationdefaults\":{\"arrowcolor\":\"#2a3f5f\",\"arrowhead\":0,\"arrowwidth\":1},\"autotypenumbers\":\"strict\",\"coloraxis\":{\"colorbar\":{\"outlinewidth\":0,\"ticks\":\"\"}},\"colorscale\":{\"diverging\":[[0,\"#8e0152\"],[0.1,\"#c51b7d\"],[0.2,\"#de77ae\"],[0.3,\"#f1b6da\"],[0.4,\"#fde0ef\"],[0.5,\"#f7f7f7\"],[0.6,\"#e6f5d0\"],[0.7,\"#b8e186\"],[0.8,\"#7fbc41\"],[0.9,\"#4d9221\"],[1,\"#276419\"]],\"sequential\":[[0.0,\"#0d0887\"],[0.1111111111111111,\"#46039f\"],[0.2222222222222222,\"#7201a8\"],[0.3333333333333333,\"#9c179e\"],[0.4444444444444444,\"#bd3786\"],[0.5555555555555556,\"#d8576b\"],[0.6666666666666666,\"#ed7953\"],[0.7777777777777778,\"#fb9f3a\"],[0.8888888888888888,\"#fdca26\"],[1.0,\"#f0f921\"]],\"sequentialminus\":[[0.0,\"#0d0887\"],[0.1111111111111111,\"#46039f\"],[0.2222222222222222,\"#7201a8\"],[0.3333333333333333,\"#9c179e\"],[0.4444444444444444,\"#bd3786\"],[0.5555555555555556,\"#d8576b\"],[0.6666666666666666,\"#ed7953\"],[0.7777777777777778,\"#fb9f3a\"],[0.8888888888888888,\"#fdca26\"],[1.0,\"#f0f921\"]]},\"colorway\":[\"#636efa\",\"#EF553B\",\"#00cc96\",\"#ab63fa\",\"#FFA15A\",\"#19d3f3\",\"#FF6692\",\"#B6E880\",\"#FF97FF\",\"#FECB52\"],\"font\":{\"color\":\"#2a3f5f\"},\"geo\":{\"bgcolor\":\"white\",\"lakecolor\":\"white\",\"landcolor\":\"#E5ECF6\",\"showlakes\":true,\"showland\":true,\"subunitcolor\":\"white\"},\"hoverlabel\":{\"align\":\"left\"},\"hovermode\":\"closest\",\"mapbox\":{\"style\":\"light\"},\"paper_bgcolor\":\"white\",\"plot_bgcolor\":\"#E5ECF6\",\"polar\":{\"angularaxis\":{\"gridcolor\":\"white\",\"linecolor\":\"white\",\"ticks\":\"\"},\"bgcolor\":\"#E5ECF6\",\"radialaxis\":{\"gridcolor\":\"white\",\"linecolor\":\"white\",\"ticks\":\"\"}},\"scene\":{\"xaxis\":{\"backgroundcolor\":\"#E5ECF6\",\"gridcolor\":\"white\",\"gridwidth\":2,\"linecolor\":\"white\",\"showbackground\":true,\"ticks\":\"\",\"zerolinecolor\":\"white\"},\"yaxis\":{\"backgroundcolor\":\"#E5ECF6\",\"gridcolor\":\"white\",\"gridwidth\":2,\"linecolor\":\"white\",\"showbackground\":true,\"ticks\":\"\",\"zerolinecolor\":\"white\"},\"zaxis\":{\"backgroundcolor\":\"#E5ECF6\",\"gridcolor\":\"white\",\"gridwidth\":2,\"linecolor\":\"white\",\"showbackground\":true,\"ticks\":\"\",\"zerolinecolor\":\"white\"}},\"shapedefaults\":{\"line\":{\"color\":\"#2a3f5f\"}},\"ternary\":{\"aaxis\":{\"gridcolor\":\"white\",\"linecolor\":\"white\",\"ticks\":\"\"},\"baxis\":{\"gridcolor\":\"white\",\"linecolor\":\"white\",\"ticks\":\"\"},\"bgcolor\":\"#E5ECF6\",\"caxis\":{\"gridcolor\":\"white\",\"linecolor\":\"white\",\"ticks\":\"\"}},\"title\":{\"x\":0.05},\"xaxis\":{\"automargin\":true,\"gridcolor\":\"white\",\"linecolor\":\"white\",\"ticks\":\"\",\"title\":{\"standoff\":15},\"zerolinecolor\":\"white\",\"zerolinewidth\":2},\"yaxis\":{\"automargin\":true,\"gridcolor\":\"white\",\"linecolor\":\"white\",\"ticks\":\"\",\"title\":{\"standoff\":15},\"zerolinecolor\":\"white\",\"zerolinewidth\":2}}},\"xaxis\":{\"anchor\":\"y\",\"domain\":[0.0,1.0],\"title\":{\"text\":\"family_income_monthly\"}},\"yaxis\":{\"anchor\":\"x\",\"domain\":[0.0,1.0],\"title\":{\"text\":\"count\"}},\"legend\":{\"tracegroupgap\":0},\"margin\":{\"t\":60},\"barmode\":\"relative\"},                        {\"responsive\": true}                    ).then(function(){\n",
              "                            \n",
              "var gd = document.getElementById('e5750e7c-ab95-41a7-b016-21dfc7df738d');\n",
              "var x = new MutationObserver(function (mutations, observer) {{\n",
              "        var display = window.getComputedStyle(gd).display;\n",
              "        if (!display || display === 'none') {{\n",
              "            console.log([gd, 'removed!']);\n",
              "            Plotly.purge(gd);\n",
              "            observer.disconnect();\n",
              "        }}\n",
              "}});\n",
              "\n",
              "// Listen for the removal of the full notebook cells\n",
              "var notebookContainer = gd.closest('#notebook-container');\n",
              "if (notebookContainer) {{\n",
              "    x.observe(notebookContainer, {childList: true});\n",
              "}}\n",
              "\n",
              "// Listen for the clearing of the current output cell\n",
              "var outputEl = gd.closest('.output');\n",
              "if (outputEl) {{\n",
              "    x.observe(outputEl, {childList: true});\n",
              "}}\n",
              "\n",
              "                        })                };                            </script>        </div>\n",
              "</body>\n",
              "</html>"
            ]
          },
          "metadata": {}
        }
      ],
      "source": [
        "# Distribution of family income\n",
        "fig = px.histogram(df, x=\"family_income_monthly\", nbins=50)\n",
        "fig.show()"
      ]
    },
    {
      "cell_type": "markdown",
      "metadata": {
        "id": "MINxE11HaNQD"
      },
      "source": [
        "Insight: \n",
        "\n",
        "*   Majority of the student are coming from Lower Economy calsses.\n",
        "\n"
      ]
    },
    {
      "cell_type": "markdown",
      "metadata": {
        "id": "jmxcjp8MrcwS"
      },
      "source": [
        "#**Purpose of Study**"
      ]
    },
    {
      "cell_type": "markdown",
      "metadata": {
        "id": "_UpodBHUHV4o"
      },
      "source": [
        "\n",
        "\n",
        "1.   What is the main reason behind the students pursuing higher studies in Zoology?\n",
        "2.   What percentage of students are pursuing higher studies in Zoology for a Higher Study?\n",
        "\n",
        "\n",
        "\n",
        "\n"
      ]
    },
    {
      "cell_type": "code",
      "execution_count": 6,
      "metadata": {
        "colab": {
          "base_uri": "https://localhost:8080/"
        },
        "id": "vuCWTDwGNNrR",
        "outputId": "73f64a1b-2af9-4ae4-f672-bdb1b3747d5a"
      },
      "outputs": [
        {
          "output_type": "stream",
          "name": "stdout",
          "text": [
            "The main reason behind the students pursuing higher studies in Zoology is: I love zoology\n"
          ]
        }
      ],
      "source": [
        "#reason behind the students pursuing higher studies\n",
        "# count the occurrences of each reason for choosing Zoology\n",
        "reason_counts = df['Reason_for_choosing_Zoology'].value_counts()\n",
        "\n",
        "# find the reason with the highest count\n",
        "main_reason = reason_counts.idxmax()\n",
        "\n",
        "print(\"The main reason behind the students pursuing higher studies in Zoology is:\", main_reason)\n"
      ]
    },
    {
      "cell_type": "code",
      "execution_count": 7,
      "metadata": {
        "colab": {
          "base_uri": "https://localhost:8080/"
        },
        "id": "8UskRzYWdUN3",
        "outputId": "fdda7165-66fc-453f-d2a7-8df70e2c6a4a"
      },
      "outputs": [
        {
          "output_type": "execute_result",
          "data": {
            "text/plain": [
              "I love zoology                 78\n",
              "Better Scope in research       27\n",
              "Better job opportunity         20\n",
              "None of the avobe               3\n",
              "Not getting desired subject     1\n",
              "Name: Reason_for_choosing_Zoology, dtype: int64"
            ]
          },
          "metadata": {},
          "execution_count": 7
        }
      ],
      "source": [
        "reason_counts = df['Reason_for_choosing_Zoology'].value_counts()\n",
        "reason_counts"
      ]
    },
    {
      "cell_type": "code",
      "execution_count": 8,
      "metadata": {
        "colab": {
          "base_uri": "https://localhost:8080/",
          "height": 542
        },
        "id": "VSuRuwBtNNtv",
        "outputId": "1702a3fe-7965-449e-9841-be852ae61222"
      },
      "outputs": [
        {
          "output_type": "display_data",
          "data": {
            "text/html": [
              "<html>\n",
              "<head><meta charset=\"utf-8\" /></head>\n",
              "<body>\n",
              "    <div>            <script src=\"https://cdnjs.cloudflare.com/ajax/libs/mathjax/2.7.5/MathJax.js?config=TeX-AMS-MML_SVG\"></script><script type=\"text/javascript\">if (window.MathJax) {MathJax.Hub.Config({SVG: {font: \"STIX-Web\"}});}</script>                <script type=\"text/javascript\">window.PlotlyConfig = {MathJaxConfig: 'local'};</script>\n",
              "        <script src=\"https://cdn.plot.ly/plotly-2.8.3.min.js\"></script>                <div id=\"bcde0fd7-e0ee-4dd3-932c-fae43c9a3ec0\" class=\"plotly-graph-div\" style=\"height:525px; width:100%;\"></div>            <script type=\"text/javascript\">                                    window.PLOTLYENV=window.PLOTLYENV || {};                                    if (document.getElementById(\"bcde0fd7-e0ee-4dd3-932c-fae43c9a3ec0\")) {                    Plotly.newPlot(                        \"bcde0fd7-e0ee-4dd3-932c-fae43c9a3ec0\",                        [{\"domain\":{\"x\":[0.0,1.0],\"y\":[0.0,1.0]},\"hovertemplate\":\"index=%{label}<br>value=%{value}<extra></extra>\",\"labels\":[\"I love zoology\",\"Better Scope in research\",\"Better job opportunity\",\"None of the avobe\",\"Not getting desired subject\"],\"legendgroup\":\"\",\"name\":\"\",\"showlegend\":true,\"values\":[78,27,20,3,1],\"type\":\"pie\"}],                        {\"template\":{\"data\":{\"bar\":[{\"error_x\":{\"color\":\"#2a3f5f\"},\"error_y\":{\"color\":\"#2a3f5f\"},\"marker\":{\"line\":{\"color\":\"#E5ECF6\",\"width\":0.5},\"pattern\":{\"fillmode\":\"overlay\",\"size\":10,\"solidity\":0.2}},\"type\":\"bar\"}],\"barpolar\":[{\"marker\":{\"line\":{\"color\":\"#E5ECF6\",\"width\":0.5},\"pattern\":{\"fillmode\":\"overlay\",\"size\":10,\"solidity\":0.2}},\"type\":\"barpolar\"}],\"carpet\":[{\"aaxis\":{\"endlinecolor\":\"#2a3f5f\",\"gridcolor\":\"white\",\"linecolor\":\"white\",\"minorgridcolor\":\"white\",\"startlinecolor\":\"#2a3f5f\"},\"baxis\":{\"endlinecolor\":\"#2a3f5f\",\"gridcolor\":\"white\",\"linecolor\":\"white\",\"minorgridcolor\":\"white\",\"startlinecolor\":\"#2a3f5f\"},\"type\":\"carpet\"}],\"choropleth\":[{\"colorbar\":{\"outlinewidth\":0,\"ticks\":\"\"},\"type\":\"choropleth\"}],\"contour\":[{\"colorbar\":{\"outlinewidth\":0,\"ticks\":\"\"},\"colorscale\":[[0.0,\"#0d0887\"],[0.1111111111111111,\"#46039f\"],[0.2222222222222222,\"#7201a8\"],[0.3333333333333333,\"#9c179e\"],[0.4444444444444444,\"#bd3786\"],[0.5555555555555556,\"#d8576b\"],[0.6666666666666666,\"#ed7953\"],[0.7777777777777778,\"#fb9f3a\"],[0.8888888888888888,\"#fdca26\"],[1.0,\"#f0f921\"]],\"type\":\"contour\"}],\"contourcarpet\":[{\"colorbar\":{\"outlinewidth\":0,\"ticks\":\"\"},\"type\":\"contourcarpet\"}],\"heatmap\":[{\"colorbar\":{\"outlinewidth\":0,\"ticks\":\"\"},\"colorscale\":[[0.0,\"#0d0887\"],[0.1111111111111111,\"#46039f\"],[0.2222222222222222,\"#7201a8\"],[0.3333333333333333,\"#9c179e\"],[0.4444444444444444,\"#bd3786\"],[0.5555555555555556,\"#d8576b\"],[0.6666666666666666,\"#ed7953\"],[0.7777777777777778,\"#fb9f3a\"],[0.8888888888888888,\"#fdca26\"],[1.0,\"#f0f921\"]],\"type\":\"heatmap\"}],\"heatmapgl\":[{\"colorbar\":{\"outlinewidth\":0,\"ticks\":\"\"},\"colorscale\":[[0.0,\"#0d0887\"],[0.1111111111111111,\"#46039f\"],[0.2222222222222222,\"#7201a8\"],[0.3333333333333333,\"#9c179e\"],[0.4444444444444444,\"#bd3786\"],[0.5555555555555556,\"#d8576b\"],[0.6666666666666666,\"#ed7953\"],[0.7777777777777778,\"#fb9f3a\"],[0.8888888888888888,\"#fdca26\"],[1.0,\"#f0f921\"]],\"type\":\"heatmapgl\"}],\"histogram\":[{\"marker\":{\"pattern\":{\"fillmode\":\"overlay\",\"size\":10,\"solidity\":0.2}},\"type\":\"histogram\"}],\"histogram2d\":[{\"colorbar\":{\"outlinewidth\":0,\"ticks\":\"\"},\"colorscale\":[[0.0,\"#0d0887\"],[0.1111111111111111,\"#46039f\"],[0.2222222222222222,\"#7201a8\"],[0.3333333333333333,\"#9c179e\"],[0.4444444444444444,\"#bd3786\"],[0.5555555555555556,\"#d8576b\"],[0.6666666666666666,\"#ed7953\"],[0.7777777777777778,\"#fb9f3a\"],[0.8888888888888888,\"#fdca26\"],[1.0,\"#f0f921\"]],\"type\":\"histogram2d\"}],\"histogram2dcontour\":[{\"colorbar\":{\"outlinewidth\":0,\"ticks\":\"\"},\"colorscale\":[[0.0,\"#0d0887\"],[0.1111111111111111,\"#46039f\"],[0.2222222222222222,\"#7201a8\"],[0.3333333333333333,\"#9c179e\"],[0.4444444444444444,\"#bd3786\"],[0.5555555555555556,\"#d8576b\"],[0.6666666666666666,\"#ed7953\"],[0.7777777777777778,\"#fb9f3a\"],[0.8888888888888888,\"#fdca26\"],[1.0,\"#f0f921\"]],\"type\":\"histogram2dcontour\"}],\"mesh3d\":[{\"colorbar\":{\"outlinewidth\":0,\"ticks\":\"\"},\"type\":\"mesh3d\"}],\"parcoords\":[{\"line\":{\"colorbar\":{\"outlinewidth\":0,\"ticks\":\"\"}},\"type\":\"parcoords\"}],\"pie\":[{\"automargin\":true,\"type\":\"pie\"}],\"scatter\":[{\"marker\":{\"colorbar\":{\"outlinewidth\":0,\"ticks\":\"\"}},\"type\":\"scatter\"}],\"scatter3d\":[{\"line\":{\"colorbar\":{\"outlinewidth\":0,\"ticks\":\"\"}},\"marker\":{\"colorbar\":{\"outlinewidth\":0,\"ticks\":\"\"}},\"type\":\"scatter3d\"}],\"scattercarpet\":[{\"marker\":{\"colorbar\":{\"outlinewidth\":0,\"ticks\":\"\"}},\"type\":\"scattercarpet\"}],\"scattergeo\":[{\"marker\":{\"colorbar\":{\"outlinewidth\":0,\"ticks\":\"\"}},\"type\":\"scattergeo\"}],\"scattergl\":[{\"marker\":{\"colorbar\":{\"outlinewidth\":0,\"ticks\":\"\"}},\"type\":\"scattergl\"}],\"scattermapbox\":[{\"marker\":{\"colorbar\":{\"outlinewidth\":0,\"ticks\":\"\"}},\"type\":\"scattermapbox\"}],\"scatterpolar\":[{\"marker\":{\"colorbar\":{\"outlinewidth\":0,\"ticks\":\"\"}},\"type\":\"scatterpolar\"}],\"scatterpolargl\":[{\"marker\":{\"colorbar\":{\"outlinewidth\":0,\"ticks\":\"\"}},\"type\":\"scatterpolargl\"}],\"scatterternary\":[{\"marker\":{\"colorbar\":{\"outlinewidth\":0,\"ticks\":\"\"}},\"type\":\"scatterternary\"}],\"surface\":[{\"colorbar\":{\"outlinewidth\":0,\"ticks\":\"\"},\"colorscale\":[[0.0,\"#0d0887\"],[0.1111111111111111,\"#46039f\"],[0.2222222222222222,\"#7201a8\"],[0.3333333333333333,\"#9c179e\"],[0.4444444444444444,\"#bd3786\"],[0.5555555555555556,\"#d8576b\"],[0.6666666666666666,\"#ed7953\"],[0.7777777777777778,\"#fb9f3a\"],[0.8888888888888888,\"#fdca26\"],[1.0,\"#f0f921\"]],\"type\":\"surface\"}],\"table\":[{\"cells\":{\"fill\":{\"color\":\"#EBF0F8\"},\"line\":{\"color\":\"white\"}},\"header\":{\"fill\":{\"color\":\"#C8D4E3\"},\"line\":{\"color\":\"white\"}},\"type\":\"table\"}]},\"layout\":{\"annotationdefaults\":{\"arrowcolor\":\"#2a3f5f\",\"arrowhead\":0,\"arrowwidth\":1},\"autotypenumbers\":\"strict\",\"coloraxis\":{\"colorbar\":{\"outlinewidth\":0,\"ticks\":\"\"}},\"colorscale\":{\"diverging\":[[0,\"#8e0152\"],[0.1,\"#c51b7d\"],[0.2,\"#de77ae\"],[0.3,\"#f1b6da\"],[0.4,\"#fde0ef\"],[0.5,\"#f7f7f7\"],[0.6,\"#e6f5d0\"],[0.7,\"#b8e186\"],[0.8,\"#7fbc41\"],[0.9,\"#4d9221\"],[1,\"#276419\"]],\"sequential\":[[0.0,\"#0d0887\"],[0.1111111111111111,\"#46039f\"],[0.2222222222222222,\"#7201a8\"],[0.3333333333333333,\"#9c179e\"],[0.4444444444444444,\"#bd3786\"],[0.5555555555555556,\"#d8576b\"],[0.6666666666666666,\"#ed7953\"],[0.7777777777777778,\"#fb9f3a\"],[0.8888888888888888,\"#fdca26\"],[1.0,\"#f0f921\"]],\"sequentialminus\":[[0.0,\"#0d0887\"],[0.1111111111111111,\"#46039f\"],[0.2222222222222222,\"#7201a8\"],[0.3333333333333333,\"#9c179e\"],[0.4444444444444444,\"#bd3786\"],[0.5555555555555556,\"#d8576b\"],[0.6666666666666666,\"#ed7953\"],[0.7777777777777778,\"#fb9f3a\"],[0.8888888888888888,\"#fdca26\"],[1.0,\"#f0f921\"]]},\"colorway\":[\"#636efa\",\"#EF553B\",\"#00cc96\",\"#ab63fa\",\"#FFA15A\",\"#19d3f3\",\"#FF6692\",\"#B6E880\",\"#FF97FF\",\"#FECB52\"],\"font\":{\"color\":\"#2a3f5f\"},\"geo\":{\"bgcolor\":\"white\",\"lakecolor\":\"white\",\"landcolor\":\"#E5ECF6\",\"showlakes\":true,\"showland\":true,\"subunitcolor\":\"white\"},\"hoverlabel\":{\"align\":\"left\"},\"hovermode\":\"closest\",\"mapbox\":{\"style\":\"light\"},\"paper_bgcolor\":\"white\",\"plot_bgcolor\":\"#E5ECF6\",\"polar\":{\"angularaxis\":{\"gridcolor\":\"white\",\"linecolor\":\"white\",\"ticks\":\"\"},\"bgcolor\":\"#E5ECF6\",\"radialaxis\":{\"gridcolor\":\"white\",\"linecolor\":\"white\",\"ticks\":\"\"}},\"scene\":{\"xaxis\":{\"backgroundcolor\":\"#E5ECF6\",\"gridcolor\":\"white\",\"gridwidth\":2,\"linecolor\":\"white\",\"showbackground\":true,\"ticks\":\"\",\"zerolinecolor\":\"white\"},\"yaxis\":{\"backgroundcolor\":\"#E5ECF6\",\"gridcolor\":\"white\",\"gridwidth\":2,\"linecolor\":\"white\",\"showbackground\":true,\"ticks\":\"\",\"zerolinecolor\":\"white\"},\"zaxis\":{\"backgroundcolor\":\"#E5ECF6\",\"gridcolor\":\"white\",\"gridwidth\":2,\"linecolor\":\"white\",\"showbackground\":true,\"ticks\":\"\",\"zerolinecolor\":\"white\"}},\"shapedefaults\":{\"line\":{\"color\":\"#2a3f5f\"}},\"ternary\":{\"aaxis\":{\"gridcolor\":\"white\",\"linecolor\":\"white\",\"ticks\":\"\"},\"baxis\":{\"gridcolor\":\"white\",\"linecolor\":\"white\",\"ticks\":\"\"},\"bgcolor\":\"#E5ECF6\",\"caxis\":{\"gridcolor\":\"white\",\"linecolor\":\"white\",\"ticks\":\"\"}},\"title\":{\"x\":0.05},\"xaxis\":{\"automargin\":true,\"gridcolor\":\"white\",\"linecolor\":\"white\",\"ticks\":\"\",\"title\":{\"standoff\":15},\"zerolinecolor\":\"white\",\"zerolinewidth\":2},\"yaxis\":{\"automargin\":true,\"gridcolor\":\"white\",\"linecolor\":\"white\",\"ticks\":\"\",\"title\":{\"standoff\":15},\"zerolinecolor\":\"white\",\"zerolinewidth\":2}}},\"legend\":{\"tracegroupgap\":0},\"title\":{\"text\":\"Reasons for Choosing Zoology/ purpose of study\"},\"piecolorway\":[\"rgb(103,0,31)\",\"rgb(178,24,43)\",\"rgb(214,96,77)\",\"rgb(244,165,130)\",\"rgb(253,219,199)\",\"rgb(247,247,247)\",\"rgb(209,229,240)\",\"rgb(146,197,222)\",\"rgb(67,147,195)\",\"rgb(33,102,172)\",\"rgb(5,48,97)\"]},                        {\"responsive\": true}                    ).then(function(){\n",
              "                            \n",
              "var gd = document.getElementById('bcde0fd7-e0ee-4dd3-932c-fae43c9a3ec0');\n",
              "var x = new MutationObserver(function (mutations, observer) {{\n",
              "        var display = window.getComputedStyle(gd).display;\n",
              "        if (!display || display === 'none') {{\n",
              "            console.log([gd, 'removed!']);\n",
              "            Plotly.purge(gd);\n",
              "            observer.disconnect();\n",
              "        }}\n",
              "}});\n",
              "\n",
              "// Listen for the removal of the full notebook cells\n",
              "var notebookContainer = gd.closest('#notebook-container');\n",
              "if (notebookContainer) {{\n",
              "    x.observe(notebookContainer, {childList: true});\n",
              "}}\n",
              "\n",
              "// Listen for the clearing of the current output cell\n",
              "var outputEl = gd.closest('.output');\n",
              "if (outputEl) {{\n",
              "    x.observe(outputEl, {childList: true});\n",
              "}}\n",
              "\n",
              "                        })                };                            </script>        </div>\n",
              "</body>\n",
              "</html>"
            ]
          },
          "metadata": {}
        }
      ],
      "source": [
        "#percentage of students are pursuing higher studies\n",
        "reason_counts = df['Reason_for_choosing_Zoology'].value_counts()\n",
        "fig = px.pie(reason_counts, values=reason_counts.values, names=reason_counts.index, title='Reasons for Choosing Zoology/ purpose of study', color_discrete_sequence=px.colors.sequential.RdBu)\n",
        "fig.show()\n",
        "\n",
        "\n"
      ]
    },
    {
      "cell_type": "markdown",
      "metadata": {
        "id": "bDoso9jRryJc"
      },
      "source": [
        "# **Study Habits**"
      ]
    },
    {
      "cell_type": "markdown",
      "metadata": {
        "id": "4dFXNClUuj6T"
      },
      "source": [
        "\n",
        "\n",
        "1.   How much average time do the students spend on e-learning outside of college hours?\n",
        "2.   What is the average daily study time for students outside of college hours?\n",
        "3.   What is average daily study time except college hour for each gender?\n",
        "\n",
        "\n"
      ]
    },
    {
      "cell_type": "code",
      "execution_count": 9,
      "metadata": {
        "colab": {
          "base_uri": "https://localhost:8080/"
        },
        "id": "CGPqE1J4kc68",
        "outputId": "4d55aff3-85a8-421d-cdff-cbdadf60d614"
      },
      "outputs": [
        {
          "output_type": "stream",
          "name": "stdout",
          "text": [
            "Average e-learning time outside of college hours:  3 hours\n"
          ]
        }
      ],
      "source": [
        "# Average students spend time on e-learning outside\n",
        "def convert_to_hours(time_str):\n",
        "    if time_str == \"Less than 2 hours\":\n",
        "        return 2\n",
        "    elif time_str == \"Less than 5 hours\":\n",
        "        return 5\n",
        "    else:\n",
        "        return 0\n",
        "\n",
        "df['E_learning_time'] = df['E_learning_time'].apply(convert_to_hours)\n",
        "average_e_learning_time = df[\"E_learning_time\"].mean()\n",
        "\n",
        "print(\"Average e-learning time outside of college hours: \",round(average_e_learning_time),\"hours\")\n"
      ]
    },
    {
      "cell_type": "code",
      "execution_count": 10,
      "metadata": {
        "colab": {
          "base_uri": "https://localhost:8080/"
        },
        "id": "VHpEIV3n1CCC",
        "outputId": "8dccde5f-5f02-4086-c7fb-f5f0f8e3b8b1"
      },
      "outputs": [
        {
          "output_type": "stream",
          "name": "stdout",
          "text": [
            "Average daily study time outside of college hours: 3.58 hours\n"
          ]
        }
      ],
      "source": [
        "# Average daily study time for students outside of college hours\n",
        "def convert_to_hours(time_str):\n",
        "    if time_str == \"Less than 2 hours\":\n",
        "        return 2\n",
        "    elif time_str == \"Less than 5 hours\":\n",
        "        return 5\n",
        "    elif time_str == \"Irregular\":\n",
        "        return 1\n",
        "    else:\n",
        "        return 0\n",
        "\n",
        "df['daily_Study_time_except_college_hour'] = df['daily_Study_time_except_college_hour'].apply(convert_to_hours)\n",
        "average_daily_learning_time = df[\"daily_Study_time_except_college_hour\"].mean()\n",
        "\n",
        "print(\"Average daily study time outside of college hours: {:.2f} hours\".format(average_daily_learning_time))\n"
      ]
    },
    {
      "cell_type": "code",
      "execution_count": 11,
      "metadata": {
        "colab": {
          "base_uri": "https://localhost:8080/",
          "height": 717
        },
        "id": "cMxKP-UO8s-O",
        "outputId": "1f7f1db4-d596-43dd-fc18-769a9aa4084c"
      },
      "outputs": [
        {
          "output_type": "display_data",
          "data": {
            "text/html": [
              "<html>\n",
              "<head><meta charset=\"utf-8\" /></head>\n",
              "<body>\n",
              "    <div>            <script src=\"https://cdnjs.cloudflare.com/ajax/libs/mathjax/2.7.5/MathJax.js?config=TeX-AMS-MML_SVG\"></script><script type=\"text/javascript\">if (window.MathJax) {MathJax.Hub.Config({SVG: {font: \"STIX-Web\"}});}</script>                <script type=\"text/javascript\">window.PlotlyConfig = {MathJaxConfig: 'local'};</script>\n",
              "        <script src=\"https://cdn.plot.ly/plotly-2.8.3.min.js\"></script>                <div id=\"9745a57e-cb08-4864-a8b4-9c87ee43fc8d\" class=\"plotly-graph-div\" style=\"height:700px; width:900px;\"></div>            <script type=\"text/javascript\">                                    window.PLOTLYENV=window.PLOTLYENV || {};                                    if (document.getElementById(\"9745a57e-cb08-4864-a8b4-9c87ee43fc8d\")) {                    Plotly.newPlot(                        \"9745a57e-cb08-4864-a8b4-9c87ee43fc8d\",                        [{\"alignmentgroup\":\"True\",\"hovertemplate\":\"x=%{x}<br>y=%{y}<extra></extra>\",\"legendgroup\":\"\",\"marker\":{\"color\":\"rgb(103,0,31)\",\"pattern\":{\"shape\":\"\"}},\"name\":\"\",\"offsetgroup\":\"\",\"orientation\":\"v\",\"showlegend\":false,\"textposition\":\"auto\",\"x\":[\"Average daily study time outside of college hours\",\"Average e-learning time outside of college hours\"],\"xaxis\":\"x\",\"y\":[3.5813953488372094,2.9767441860465116],\"yaxis\":\"y\",\"type\":\"bar\"}],                        {\"template\":{\"data\":{\"bar\":[{\"error_x\":{\"color\":\"#2a3f5f\"},\"error_y\":{\"color\":\"#2a3f5f\"},\"marker\":{\"line\":{\"color\":\"#E5ECF6\",\"width\":0.5},\"pattern\":{\"fillmode\":\"overlay\",\"size\":10,\"solidity\":0.2}},\"type\":\"bar\"}],\"barpolar\":[{\"marker\":{\"line\":{\"color\":\"#E5ECF6\",\"width\":0.5},\"pattern\":{\"fillmode\":\"overlay\",\"size\":10,\"solidity\":0.2}},\"type\":\"barpolar\"}],\"carpet\":[{\"aaxis\":{\"endlinecolor\":\"#2a3f5f\",\"gridcolor\":\"white\",\"linecolor\":\"white\",\"minorgridcolor\":\"white\",\"startlinecolor\":\"#2a3f5f\"},\"baxis\":{\"endlinecolor\":\"#2a3f5f\",\"gridcolor\":\"white\",\"linecolor\":\"white\",\"minorgridcolor\":\"white\",\"startlinecolor\":\"#2a3f5f\"},\"type\":\"carpet\"}],\"choropleth\":[{\"colorbar\":{\"outlinewidth\":0,\"ticks\":\"\"},\"type\":\"choropleth\"}],\"contour\":[{\"colorbar\":{\"outlinewidth\":0,\"ticks\":\"\"},\"colorscale\":[[0.0,\"#0d0887\"],[0.1111111111111111,\"#46039f\"],[0.2222222222222222,\"#7201a8\"],[0.3333333333333333,\"#9c179e\"],[0.4444444444444444,\"#bd3786\"],[0.5555555555555556,\"#d8576b\"],[0.6666666666666666,\"#ed7953\"],[0.7777777777777778,\"#fb9f3a\"],[0.8888888888888888,\"#fdca26\"],[1.0,\"#f0f921\"]],\"type\":\"contour\"}],\"contourcarpet\":[{\"colorbar\":{\"outlinewidth\":0,\"ticks\":\"\"},\"type\":\"contourcarpet\"}],\"heatmap\":[{\"colorbar\":{\"outlinewidth\":0,\"ticks\":\"\"},\"colorscale\":[[0.0,\"#0d0887\"],[0.1111111111111111,\"#46039f\"],[0.2222222222222222,\"#7201a8\"],[0.3333333333333333,\"#9c179e\"],[0.4444444444444444,\"#bd3786\"],[0.5555555555555556,\"#d8576b\"],[0.6666666666666666,\"#ed7953\"],[0.7777777777777778,\"#fb9f3a\"],[0.8888888888888888,\"#fdca26\"],[1.0,\"#f0f921\"]],\"type\":\"heatmap\"}],\"heatmapgl\":[{\"colorbar\":{\"outlinewidth\":0,\"ticks\":\"\"},\"colorscale\":[[0.0,\"#0d0887\"],[0.1111111111111111,\"#46039f\"],[0.2222222222222222,\"#7201a8\"],[0.3333333333333333,\"#9c179e\"],[0.4444444444444444,\"#bd3786\"],[0.5555555555555556,\"#d8576b\"],[0.6666666666666666,\"#ed7953\"],[0.7777777777777778,\"#fb9f3a\"],[0.8888888888888888,\"#fdca26\"],[1.0,\"#f0f921\"]],\"type\":\"heatmapgl\"}],\"histogram\":[{\"marker\":{\"pattern\":{\"fillmode\":\"overlay\",\"size\":10,\"solidity\":0.2}},\"type\":\"histogram\"}],\"histogram2d\":[{\"colorbar\":{\"outlinewidth\":0,\"ticks\":\"\"},\"colorscale\":[[0.0,\"#0d0887\"],[0.1111111111111111,\"#46039f\"],[0.2222222222222222,\"#7201a8\"],[0.3333333333333333,\"#9c179e\"],[0.4444444444444444,\"#bd3786\"],[0.5555555555555556,\"#d8576b\"],[0.6666666666666666,\"#ed7953\"],[0.7777777777777778,\"#fb9f3a\"],[0.8888888888888888,\"#fdca26\"],[1.0,\"#f0f921\"]],\"type\":\"histogram2d\"}],\"histogram2dcontour\":[{\"colorbar\":{\"outlinewidth\":0,\"ticks\":\"\"},\"colorscale\":[[0.0,\"#0d0887\"],[0.1111111111111111,\"#46039f\"],[0.2222222222222222,\"#7201a8\"],[0.3333333333333333,\"#9c179e\"],[0.4444444444444444,\"#bd3786\"],[0.5555555555555556,\"#d8576b\"],[0.6666666666666666,\"#ed7953\"],[0.7777777777777778,\"#fb9f3a\"],[0.8888888888888888,\"#fdca26\"],[1.0,\"#f0f921\"]],\"type\":\"histogram2dcontour\"}],\"mesh3d\":[{\"colorbar\":{\"outlinewidth\":0,\"ticks\":\"\"},\"type\":\"mesh3d\"}],\"parcoords\":[{\"line\":{\"colorbar\":{\"outlinewidth\":0,\"ticks\":\"\"}},\"type\":\"parcoords\"}],\"pie\":[{\"automargin\":true,\"type\":\"pie\"}],\"scatter\":[{\"marker\":{\"colorbar\":{\"outlinewidth\":0,\"ticks\":\"\"}},\"type\":\"scatter\"}],\"scatter3d\":[{\"line\":{\"colorbar\":{\"outlinewidth\":0,\"ticks\":\"\"}},\"marker\":{\"colorbar\":{\"outlinewidth\":0,\"ticks\":\"\"}},\"type\":\"scatter3d\"}],\"scattercarpet\":[{\"marker\":{\"colorbar\":{\"outlinewidth\":0,\"ticks\":\"\"}},\"type\":\"scattercarpet\"}],\"scattergeo\":[{\"marker\":{\"colorbar\":{\"outlinewidth\":0,\"ticks\":\"\"}},\"type\":\"scattergeo\"}],\"scattergl\":[{\"marker\":{\"colorbar\":{\"outlinewidth\":0,\"ticks\":\"\"}},\"type\":\"scattergl\"}],\"scattermapbox\":[{\"marker\":{\"colorbar\":{\"outlinewidth\":0,\"ticks\":\"\"}},\"type\":\"scattermapbox\"}],\"scatterpolar\":[{\"marker\":{\"colorbar\":{\"outlinewidth\":0,\"ticks\":\"\"}},\"type\":\"scatterpolar\"}],\"scatterpolargl\":[{\"marker\":{\"colorbar\":{\"outlinewidth\":0,\"ticks\":\"\"}},\"type\":\"scatterpolargl\"}],\"scatterternary\":[{\"marker\":{\"colorbar\":{\"outlinewidth\":0,\"ticks\":\"\"}},\"type\":\"scatterternary\"}],\"surface\":[{\"colorbar\":{\"outlinewidth\":0,\"ticks\":\"\"},\"colorscale\":[[0.0,\"#0d0887\"],[0.1111111111111111,\"#46039f\"],[0.2222222222222222,\"#7201a8\"],[0.3333333333333333,\"#9c179e\"],[0.4444444444444444,\"#bd3786\"],[0.5555555555555556,\"#d8576b\"],[0.6666666666666666,\"#ed7953\"],[0.7777777777777778,\"#fb9f3a\"],[0.8888888888888888,\"#fdca26\"],[1.0,\"#f0f921\"]],\"type\":\"surface\"}],\"table\":[{\"cells\":{\"fill\":{\"color\":\"#EBF0F8\"},\"line\":{\"color\":\"white\"}},\"header\":{\"fill\":{\"color\":\"#C8D4E3\"},\"line\":{\"color\":\"white\"}},\"type\":\"table\"}]},\"layout\":{\"annotationdefaults\":{\"arrowcolor\":\"#2a3f5f\",\"arrowhead\":0,\"arrowwidth\":1},\"autotypenumbers\":\"strict\",\"coloraxis\":{\"colorbar\":{\"outlinewidth\":0,\"ticks\":\"\"}},\"colorscale\":{\"diverging\":[[0,\"#8e0152\"],[0.1,\"#c51b7d\"],[0.2,\"#de77ae\"],[0.3,\"#f1b6da\"],[0.4,\"#fde0ef\"],[0.5,\"#f7f7f7\"],[0.6,\"#e6f5d0\"],[0.7,\"#b8e186\"],[0.8,\"#7fbc41\"],[0.9,\"#4d9221\"],[1,\"#276419\"]],\"sequential\":[[0.0,\"#0d0887\"],[0.1111111111111111,\"#46039f\"],[0.2222222222222222,\"#7201a8\"],[0.3333333333333333,\"#9c179e\"],[0.4444444444444444,\"#bd3786\"],[0.5555555555555556,\"#d8576b\"],[0.6666666666666666,\"#ed7953\"],[0.7777777777777778,\"#fb9f3a\"],[0.8888888888888888,\"#fdca26\"],[1.0,\"#f0f921\"]],\"sequentialminus\":[[0.0,\"#0d0887\"],[0.1111111111111111,\"#46039f\"],[0.2222222222222222,\"#7201a8\"],[0.3333333333333333,\"#9c179e\"],[0.4444444444444444,\"#bd3786\"],[0.5555555555555556,\"#d8576b\"],[0.6666666666666666,\"#ed7953\"],[0.7777777777777778,\"#fb9f3a\"],[0.8888888888888888,\"#fdca26\"],[1.0,\"#f0f921\"]]},\"colorway\":[\"#636efa\",\"#EF553B\",\"#00cc96\",\"#ab63fa\",\"#FFA15A\",\"#19d3f3\",\"#FF6692\",\"#B6E880\",\"#FF97FF\",\"#FECB52\"],\"font\":{\"color\":\"#2a3f5f\"},\"geo\":{\"bgcolor\":\"white\",\"lakecolor\":\"white\",\"landcolor\":\"#E5ECF6\",\"showlakes\":true,\"showland\":true,\"subunitcolor\":\"white\"},\"hoverlabel\":{\"align\":\"left\"},\"hovermode\":\"closest\",\"mapbox\":{\"style\":\"light\"},\"paper_bgcolor\":\"white\",\"plot_bgcolor\":\"#E5ECF6\",\"polar\":{\"angularaxis\":{\"gridcolor\":\"white\",\"linecolor\":\"white\",\"ticks\":\"\"},\"bgcolor\":\"#E5ECF6\",\"radialaxis\":{\"gridcolor\":\"white\",\"linecolor\":\"white\",\"ticks\":\"\"}},\"scene\":{\"xaxis\":{\"backgroundcolor\":\"#E5ECF6\",\"gridcolor\":\"white\",\"gridwidth\":2,\"linecolor\":\"white\",\"showbackground\":true,\"ticks\":\"\",\"zerolinecolor\":\"white\"},\"yaxis\":{\"backgroundcolor\":\"#E5ECF6\",\"gridcolor\":\"white\",\"gridwidth\":2,\"linecolor\":\"white\",\"showbackground\":true,\"ticks\":\"\",\"zerolinecolor\":\"white\"},\"zaxis\":{\"backgroundcolor\":\"#E5ECF6\",\"gridcolor\":\"white\",\"gridwidth\":2,\"linecolor\":\"white\",\"showbackground\":true,\"ticks\":\"\",\"zerolinecolor\":\"white\"}},\"shapedefaults\":{\"line\":{\"color\":\"#2a3f5f\"}},\"ternary\":{\"aaxis\":{\"gridcolor\":\"white\",\"linecolor\":\"white\",\"ticks\":\"\"},\"baxis\":{\"gridcolor\":\"white\",\"linecolor\":\"white\",\"ticks\":\"\"},\"bgcolor\":\"#E5ECF6\",\"caxis\":{\"gridcolor\":\"white\",\"linecolor\":\"white\",\"ticks\":\"\"}},\"title\":{\"x\":0.05},\"xaxis\":{\"automargin\":true,\"gridcolor\":\"white\",\"linecolor\":\"white\",\"ticks\":\"\",\"title\":{\"standoff\":15},\"zerolinecolor\":\"white\",\"zerolinewidth\":2},\"yaxis\":{\"automargin\":true,\"gridcolor\":\"white\",\"linecolor\":\"white\",\"ticks\":\"\",\"title\":{\"standoff\":15},\"zerolinecolor\":\"white\",\"zerolinewidth\":2}}},\"xaxis\":{\"anchor\":\"y\",\"domain\":[0.0,1.0],\"title\":{\"text\":\"x\"}},\"yaxis\":{\"anchor\":\"x\",\"domain\":[0.0,1.0],\"title\":{\"text\":\"y\"}},\"legend\":{\"tracegroupgap\":0},\"title\":{\"text\":\"Average daily study time vs Average daily e-learning time\"},\"barmode\":\"relative\",\"height\":700,\"width\":900},                        {\"responsive\": true}                    ).then(function(){\n",
              "                            \n",
              "var gd = document.getElementById('9745a57e-cb08-4864-a8b4-9c87ee43fc8d');\n",
              "var x = new MutationObserver(function (mutations, observer) {{\n",
              "        var display = window.getComputedStyle(gd).display;\n",
              "        if (!display || display === 'none') {{\n",
              "            console.log([gd, 'removed!']);\n",
              "            Plotly.purge(gd);\n",
              "            observer.disconnect();\n",
              "        }}\n",
              "}});\n",
              "\n",
              "// Listen for the removal of the full notebook cells\n",
              "var notebookContainer = gd.closest('#notebook-container');\n",
              "if (notebookContainer) {{\n",
              "    x.observe(notebookContainer, {childList: true});\n",
              "}}\n",
              "\n",
              "// Listen for the clearing of the current output cell\n",
              "var outputEl = gd.closest('.output');\n",
              "if (outputEl) {{\n",
              "    x.observe(outputEl, {childList: true});\n",
              "}}\n",
              "\n",
              "                        })                };                            </script>        </div>\n",
              "</body>\n",
              "</html>"
            ]
          },
          "metadata": {}
        }
      ],
      "source": [
        "#Average daily study time vs Average daily e-learning time\n",
        "bar_labels = ['Average daily study time outside of college hours', 'Average e-learning time outside of college hours']\n",
        "bar_values = [average_daily_learning_time, average_e_learning_time]\n",
        "\n",
        "fig = px.bar(x=bar_labels, y=bar_values,title=\"Average daily study time vs Average daily e-learning time\", color_discrete_sequence=px.colors.sequential.RdBu,height=700,width=900)\n",
        "fig.show()\n"
      ]
    },
    {
      "cell_type": "markdown",
      "metadata": {
        "id": "iynHOKASFm87"
      },
      "source": [
        "**Acquiring knowledge from books**"
      ]
    },
    {
      "cell_type": "code",
      "execution_count": 12,
      "metadata": {
        "colab": {
          "base_uri": "https://localhost:8080/"
        },
        "id": "wY2qPziT-PiE",
        "outputId": "7c5df9ad-fdf2-4354-db48-be1664aa5ad8"
      },
      "outputs": [
        {
          "output_type": "stream",
          "name": "stdout",
          "text": [
            "Knowledge from book (minutes): 36.28\n"
          ]
        }
      ],
      "source": [
        "print(\"Knowledge from book (minutes): {:.2f}\".format((average_daily_learning_time - average_e_learning_time)*60))\n"
      ]
    },
    {
      "cell_type": "code",
      "execution_count": 13,
      "metadata": {
        "colab": {
          "base_uri": "https://localhost:8080/"
        },
        "id": "Ap3v3wUWwkFJ",
        "outputId": "a2413872-821d-4c76-ac34-3c9e5688c2b2"
      },
      "outputs": [
        {
          "output_type": "execute_result",
          "data": {
            "text/plain": [
              "Gender\n",
              "Female    3.855263\n",
              "Male      3.188679\n",
              "Name: daily_Study_time_except_college_hour, dtype: float64"
            ]
          },
          "metadata": {},
          "execution_count": 13
        }
      ],
      "source": [
        "# Average daily study time except college hour for each gender:\n",
        "gender_wise_study_time = df.groupby(['Gender'])['daily_Study_time_except_college_hour'].mean()\n",
        "gender_wise_study_time"
      ]
    },
    {
      "cell_type": "code",
      "execution_count": 13,
      "metadata": {
        "id": "mMwmxYx0cq_K"
      },
      "outputs": [],
      "source": []
    },
    {
      "cell_type": "markdown",
      "metadata": {
        "id": "CQAN7bE2cW1K"
      },
      "source": [
        "Insight: Students are are mainly depends on E-learning"
      ]
    },
    {
      "cell_type": "markdown",
      "metadata": {
        "id": "Gzu7GTcOsLSo"
      },
      "source": [
        "# **College Choice**"
      ]
    },
    {
      "cell_type": "markdown",
      "metadata": {
        "id": "iSkX-OS_HmA0"
      },
      "source": [
        "\n",
        "\n",
        "1.   What is the most common reason for choosing Zoology as a subject of study?\n",
        "2.   How many students chose their college based on the availability of Zoology course?\n",
        "\n",
        "\n"
      ]
    },
    {
      "cell_type": "code",
      "execution_count": 14,
      "metadata": {
        "colab": {
          "base_uri": "https://localhost:8080/"
        },
        "id": "HCVmO-5I_tQe",
        "outputId": "4bb52fdc-0cf2-46fc-a6e5-abcf9fa04263"
      },
      "outputs": [
        {
          "output_type": "stream",
          "name": "stdout",
          "text": [
            "Most common reason for choosing Zoology: I love zoology\n"
          ]
        }
      ],
      "source": [
        "# most common reason for choosing Zoology as a subject\n",
        "reason_counts = df[\"Reason_for_choosing_Zoology\"].value_counts()\n",
        "most_common_reason = reason_counts.index[0]\n",
        "\n",
        "print(\"Most common reason for choosing Zoology:\", most_common_reason)\n"
      ]
    },
    {
      "cell_type": "code",
      "execution_count": 15,
      "metadata": {
        "colab": {
          "base_uri": "https://localhost:8080/"
        },
        "id": "HC6OxQgjI-SR",
        "outputId": "42bb8bf8-cab0-4b74-a148-7a3905fc9aa7"
      },
      "outputs": [
        {
          "output_type": "stream",
          "name": "stdout",
          "text": [
            "Number of students who chose college based on availability of Zoology course: 78\n"
          ]
        }
      ],
      "source": [
        "# Students chose their college based on the availability of Zoology course\n",
        "zoology_count = df[df[\"Reason_for_choosing_Zoology\"] == \"I love zoology\"].shape[0] # 2 dimension array .shape[0] call 1st dimension of the array\n",
        "\n",
        "print(\"Number of students who chose college based on availability of Zoology course:\", zoology_count)\n"
      ]
    },
    {
      "cell_type": "markdown",
      "metadata": {
        "id": "XLI4tg11sS4E"
      },
      "source": [
        "# **Future Career Plans**"
      ]
    },
    {
      "cell_type": "markdown",
      "metadata": {
        "id": "kVOydJ1OK_OB"
      },
      "source": [
        "\n",
        "\n",
        "\n",
        "1.   How many students plan to continue their higher studies in the same college?\n",
        "3.   How many B.sc. students plan to continue their higher studies in the same college?\n",
        "2.   What is the most common reason for not continuing higher studies in the same college?"
      ]
    },
    {
      "cell_type": "code",
      "execution_count": 16,
      "metadata": {
        "colab": {
          "base_uri": "https://localhost:8080/"
        },
        "id": "-KGRvl5QJBvO",
        "outputId": "8418f9fd-8e4e-494d-9555-50758b443b3e"
      },
      "outputs": [
        {
          "output_type": "stream",
          "name": "stdout",
          "text": [
            "Number of students who plan to continue their higher studies in the same college: 99 ( 76.74 %)\n"
          ]
        }
      ],
      "source": [
        "#continue their higher studies in the same college\n",
        "all_students_count = df.shape[0]\n",
        "same_college_count = df[df[\"Further_study_in_the_same_college\"] == \"Yes\"].shape[0]\n",
        "\n",
        "percentage = (same_college_count / all_students_count) * 100 \n",
        "print(\"Number of students who plan to continue their higher studies in the same college:\", same_college_count, \"(\", \"{:.2f}\".format(percentage), \"%)\")\n",
        "\n"
      ]
    },
    {
      "cell_type": "code",
      "execution_count": 17,
      "metadata": {
        "colab": {
          "base_uri": "https://localhost:8080/"
        },
        "id": "bPijqr_tJBXI",
        "outputId": "e8c96081-4e36-40b1-f1a3-c3341f2ff3ed"
      },
      "outputs": [
        {
          "output_type": "stream",
          "name": "stdout",
          "text": [
            "Number of B.Sc. students continuing higher studies in the same college: 69 ( 79.31 %)\n"
          ]
        }
      ],
      "source": [
        "# B.sc. students plan to continue their higher studies in the same college\n",
        "num_of_BSc_students = df[df['Qualification'] == 'Running B.Sc.'].shape[0]\n",
        "num_of_BSc_students_continuing_higher_studies = df[(df['Qualification'] == 'Running B.Sc.') & (df['Further_study_in_the_same_college'] == 'Yes')].shape[0]\n",
        "percentage = (num_of_BSc_students_continuing_higher_studies / num_of_BSc_students) * 100\n",
        "print(\"Number of B.Sc. students continuing higher studies in the same college:\", num_of_BSc_students_continuing_higher_studies, \"(\", \"{:.2f}\".format(percentage), \"%)\")\n"
      ]
    },
    {
      "cell_type": "code",
      "execution_count": 18,
      "metadata": {
        "colab": {
          "base_uri": "https://localhost:8080/"
        },
        "id": "UT01cj2uJBRQ",
        "outputId": "bd0c82e4-5443-4395-9220-b67c5b6fbc47"
      },
      "outputs": [
        {
          "output_type": "stream",
          "name": "stdout",
          "text": [
            "The most common reason for not continuing higher studies in the same college: I am preparing for competitive exams\n"
          ]
        }
      ],
      "source": [
        " #reason for not continuing higher studies in the same college\n",
        "not_continuing_higher_studies = df[(df['Further_study_in_the_same_college'] == 'No')]\n",
        "\n",
        "if not not_continuing_higher_studies.empty:\n",
        "    most_common_reason = not_continuing_higher_studies['reason_for_no'].value_counts().idxmax()\n",
        "    print(\"The most common reason for not continuing higher studies in the same college:\", most_common_reason)\n",
        "else:\n",
        "    print(\"There are no B.Sc. students who are not continuing higher studies in the same college.\")\n"
      ]
    },
    {
      "cell_type": "code",
      "execution_count": 19,
      "metadata": {
        "colab": {
          "base_uri": "https://localhost:8080/"
        },
        "id": "4owi4KbfJBEP",
        "outputId": "9092eb08-aca6-4471-fb8b-c43e9d3ad6d5"
      },
      "outputs": [
        {
          "output_type": "execute_result",
          "data": {
            "text/plain": [
              "I am preparing for competitive exams                                   2\n",
              "Better college available                                               2\n",
              "I want to read from outside                                            2\n",
              "Want to gain more knowledge                                            2\n",
              "better colleges are available for higher studies                       1\n",
              "So long distance journey and also money problem in my house.           1\n",
              "I require new technique to learn another college.                      1\n",
              "Try for better opportunity                                             1\n",
              "There have no BEd course                                               1\n",
              "I just want to get a job                                               1\n",
              "There have no B. Ed course                                             1\n",
              "There have no any  B. Ed course                                        1\n",
              "Something else                                                         1\n",
              "I will definitely want to higher in university                         1\n",
              "I want to gain more knowledge                                          1\n",
              "Because i want to complete B. ed course                                1\n",
              "I want to best college                                                 1\n",
              "I want to go University in future                                      1\n",
              "My previous answer is yes                                              1\n",
              "After completing my M.sc. I wil prepare myself for comparative exam    1\n",
              "Beacuse my destination is other platform                               1\n",
              "Because there are no B.Ed. course in this college                      1\n",
              "Near by my house,                                                      1\n",
              "My wish go to jadavpur university for higher education                 1\n",
              "My choice                                                              1\n",
              "Family pressure                                                        1\n",
              "Name: reason_for_no, dtype: int64"
            ]
          },
          "metadata": {},
          "execution_count": 19
        }
      ],
      "source": [
        "#reason for not\n",
        "most_common_reason = not_continuing_higher_studies['reason_for_no'].value_counts()\n",
        "most_common_reason"
      ]
    },
    {
      "cell_type": "markdown",
      "metadata": {
        "id": "ImSk5YPnscoD"
      },
      "source": [
        "# **Opinion on the syllabus**"
      ]
    },
    {
      "cell_type": "markdown",
      "metadata": {
        "id": "vrjUBxlfWOhe"
      },
      "source": [
        "\n",
        "1.  What is the general opinion of students about the present syllabus of B.Sc./M.Sc. Zoology?\n",
        "2.  What percentage of students feel that the syllabus needs upgradation?"
      ]
    },
    {
      "cell_type": "code",
      "execution_count": 20,
      "metadata": {
        "colab": {
          "base_uri": "https://localhost:8080/"
        },
        "id": "b_R2fZYaTCZR",
        "outputId": "b424f551-4911-469b-cc1b-0cfdcece6b04"
      },
      "outputs": [
        {
          "output_type": "stream",
          "name": "stdout",
          "text": [
            "Perfect for student            97\n",
            "Compatible for NET,SET,GATE    17\n",
            "Need upgradation                7\n",
            "Overloaded for student          7\n",
            "Name: What do you think about present syllabus of B.Sc./ M.Sc.?, dtype: int64\n"
          ]
        }
      ],
      "source": [
        "# Opinion about the present syllabus \n",
        "opinion = df['What do you think about present syllabus of B.Sc./ M.Sc.?'].value_counts()\n",
        "print(opinion)"
      ]
    },
    {
      "cell_type": "code",
      "execution_count": 21,
      "metadata": {
        "colab": {
          "base_uri": "https://localhost:8080/",
          "height": 542
        },
        "id": "tfuOFNpnXDfl",
        "outputId": "17e89eb8-7d1d-4b33-eb13-c132660e0626"
      },
      "outputs": [
        {
          "output_type": "display_data",
          "data": {
            "text/html": [
              "<html>\n",
              "<head><meta charset=\"utf-8\" /></head>\n",
              "<body>\n",
              "    <div>            <script src=\"https://cdnjs.cloudflare.com/ajax/libs/mathjax/2.7.5/MathJax.js?config=TeX-AMS-MML_SVG\"></script><script type=\"text/javascript\">if (window.MathJax) {MathJax.Hub.Config({SVG: {font: \"STIX-Web\"}});}</script>                <script type=\"text/javascript\">window.PlotlyConfig = {MathJaxConfig: 'local'};</script>\n",
              "        <script src=\"https://cdn.plot.ly/plotly-2.8.3.min.js\"></script>                <div id=\"c937dfdd-7fd3-458b-9d35-ce3e708d5899\" class=\"plotly-graph-div\" style=\"height:525px; width:100%;\"></div>            <script type=\"text/javascript\">                                    window.PLOTLYENV=window.PLOTLYENV || {};                                    if (document.getElementById(\"c937dfdd-7fd3-458b-9d35-ce3e708d5899\")) {                    Plotly.newPlot(                        \"c937dfdd-7fd3-458b-9d35-ce3e708d5899\",                        [{\"alignmentgroup\":\"True\",\"hovertemplate\":\"index=%{x}<br>y=%{y}<extra></extra>\",\"legendgroup\":\"Perfect for student\",\"marker\":{\"color\":\"#636efa\",\"pattern\":{\"shape\":\"\"}},\"name\":\"Perfect for student\",\"offsetgroup\":\"Perfect for student\",\"orientation\":\"v\",\"showlegend\":true,\"textposition\":\"auto\",\"x\":[\"Perfect for student\"],\"xaxis\":\"x\",\"y\":[97],\"yaxis\":\"y\",\"type\":\"bar\"},{\"alignmentgroup\":\"True\",\"hovertemplate\":\"index=%{x}<br>y=%{y}<extra></extra>\",\"legendgroup\":\"Compatible for NET,SET,GATE\",\"marker\":{\"color\":\"#EF553B\",\"pattern\":{\"shape\":\"\"}},\"name\":\"Compatible for NET,SET,GATE\",\"offsetgroup\":\"Compatible for NET,SET,GATE\",\"orientation\":\"v\",\"showlegend\":true,\"textposition\":\"auto\",\"x\":[\"Compatible for NET,SET,GATE\"],\"xaxis\":\"x\",\"y\":[17],\"yaxis\":\"y\",\"type\":\"bar\"},{\"alignmentgroup\":\"True\",\"hovertemplate\":\"index=%{x}<br>y=%{y}<extra></extra>\",\"legendgroup\":\"Need upgradation\",\"marker\":{\"color\":\"#00cc96\",\"pattern\":{\"shape\":\"\"}},\"name\":\"Need upgradation\",\"offsetgroup\":\"Need upgradation\",\"orientation\":\"v\",\"showlegend\":true,\"textposition\":\"auto\",\"x\":[\"Need upgradation\"],\"xaxis\":\"x\",\"y\":[7],\"yaxis\":\"y\",\"type\":\"bar\"},{\"alignmentgroup\":\"True\",\"hovertemplate\":\"index=%{x}<br>y=%{y}<extra></extra>\",\"legendgroup\":\"Overloaded for student\",\"marker\":{\"color\":\"#ab63fa\",\"pattern\":{\"shape\":\"\"}},\"name\":\"Overloaded for student\",\"offsetgroup\":\"Overloaded for student\",\"orientation\":\"v\",\"showlegend\":true,\"textposition\":\"auto\",\"x\":[\"Overloaded for student\"],\"xaxis\":\"x\",\"y\":[7],\"yaxis\":\"y\",\"type\":\"bar\"}],                        {\"template\":{\"data\":{\"bar\":[{\"error_x\":{\"color\":\"#2a3f5f\"},\"error_y\":{\"color\":\"#2a3f5f\"},\"marker\":{\"line\":{\"color\":\"#E5ECF6\",\"width\":0.5},\"pattern\":{\"fillmode\":\"overlay\",\"size\":10,\"solidity\":0.2}},\"type\":\"bar\"}],\"barpolar\":[{\"marker\":{\"line\":{\"color\":\"#E5ECF6\",\"width\":0.5},\"pattern\":{\"fillmode\":\"overlay\",\"size\":10,\"solidity\":0.2}},\"type\":\"barpolar\"}],\"carpet\":[{\"aaxis\":{\"endlinecolor\":\"#2a3f5f\",\"gridcolor\":\"white\",\"linecolor\":\"white\",\"minorgridcolor\":\"white\",\"startlinecolor\":\"#2a3f5f\"},\"baxis\":{\"endlinecolor\":\"#2a3f5f\",\"gridcolor\":\"white\",\"linecolor\":\"white\",\"minorgridcolor\":\"white\",\"startlinecolor\":\"#2a3f5f\"},\"type\":\"carpet\"}],\"choropleth\":[{\"colorbar\":{\"outlinewidth\":0,\"ticks\":\"\"},\"type\":\"choropleth\"}],\"contour\":[{\"colorbar\":{\"outlinewidth\":0,\"ticks\":\"\"},\"colorscale\":[[0.0,\"#0d0887\"],[0.1111111111111111,\"#46039f\"],[0.2222222222222222,\"#7201a8\"],[0.3333333333333333,\"#9c179e\"],[0.4444444444444444,\"#bd3786\"],[0.5555555555555556,\"#d8576b\"],[0.6666666666666666,\"#ed7953\"],[0.7777777777777778,\"#fb9f3a\"],[0.8888888888888888,\"#fdca26\"],[1.0,\"#f0f921\"]],\"type\":\"contour\"}],\"contourcarpet\":[{\"colorbar\":{\"outlinewidth\":0,\"ticks\":\"\"},\"type\":\"contourcarpet\"}],\"heatmap\":[{\"colorbar\":{\"outlinewidth\":0,\"ticks\":\"\"},\"colorscale\":[[0.0,\"#0d0887\"],[0.1111111111111111,\"#46039f\"],[0.2222222222222222,\"#7201a8\"],[0.3333333333333333,\"#9c179e\"],[0.4444444444444444,\"#bd3786\"],[0.5555555555555556,\"#d8576b\"],[0.6666666666666666,\"#ed7953\"],[0.7777777777777778,\"#fb9f3a\"],[0.8888888888888888,\"#fdca26\"],[1.0,\"#f0f921\"]],\"type\":\"heatmap\"}],\"heatmapgl\":[{\"colorbar\":{\"outlinewidth\":0,\"ticks\":\"\"},\"colorscale\":[[0.0,\"#0d0887\"],[0.1111111111111111,\"#46039f\"],[0.2222222222222222,\"#7201a8\"],[0.3333333333333333,\"#9c179e\"],[0.4444444444444444,\"#bd3786\"],[0.5555555555555556,\"#d8576b\"],[0.6666666666666666,\"#ed7953\"],[0.7777777777777778,\"#fb9f3a\"],[0.8888888888888888,\"#fdca26\"],[1.0,\"#f0f921\"]],\"type\":\"heatmapgl\"}],\"histogram\":[{\"marker\":{\"pattern\":{\"fillmode\":\"overlay\",\"size\":10,\"solidity\":0.2}},\"type\":\"histogram\"}],\"histogram2d\":[{\"colorbar\":{\"outlinewidth\":0,\"ticks\":\"\"},\"colorscale\":[[0.0,\"#0d0887\"],[0.1111111111111111,\"#46039f\"],[0.2222222222222222,\"#7201a8\"],[0.3333333333333333,\"#9c179e\"],[0.4444444444444444,\"#bd3786\"],[0.5555555555555556,\"#d8576b\"],[0.6666666666666666,\"#ed7953\"],[0.7777777777777778,\"#fb9f3a\"],[0.8888888888888888,\"#fdca26\"],[1.0,\"#f0f921\"]],\"type\":\"histogram2d\"}],\"histogram2dcontour\":[{\"colorbar\":{\"outlinewidth\":0,\"ticks\":\"\"},\"colorscale\":[[0.0,\"#0d0887\"],[0.1111111111111111,\"#46039f\"],[0.2222222222222222,\"#7201a8\"],[0.3333333333333333,\"#9c179e\"],[0.4444444444444444,\"#bd3786\"],[0.5555555555555556,\"#d8576b\"],[0.6666666666666666,\"#ed7953\"],[0.7777777777777778,\"#fb9f3a\"],[0.8888888888888888,\"#fdca26\"],[1.0,\"#f0f921\"]],\"type\":\"histogram2dcontour\"}],\"mesh3d\":[{\"colorbar\":{\"outlinewidth\":0,\"ticks\":\"\"},\"type\":\"mesh3d\"}],\"parcoords\":[{\"line\":{\"colorbar\":{\"outlinewidth\":0,\"ticks\":\"\"}},\"type\":\"parcoords\"}],\"pie\":[{\"automargin\":true,\"type\":\"pie\"}],\"scatter\":[{\"marker\":{\"colorbar\":{\"outlinewidth\":0,\"ticks\":\"\"}},\"type\":\"scatter\"}],\"scatter3d\":[{\"line\":{\"colorbar\":{\"outlinewidth\":0,\"ticks\":\"\"}},\"marker\":{\"colorbar\":{\"outlinewidth\":0,\"ticks\":\"\"}},\"type\":\"scatter3d\"}],\"scattercarpet\":[{\"marker\":{\"colorbar\":{\"outlinewidth\":0,\"ticks\":\"\"}},\"type\":\"scattercarpet\"}],\"scattergeo\":[{\"marker\":{\"colorbar\":{\"outlinewidth\":0,\"ticks\":\"\"}},\"type\":\"scattergeo\"}],\"scattergl\":[{\"marker\":{\"colorbar\":{\"outlinewidth\":0,\"ticks\":\"\"}},\"type\":\"scattergl\"}],\"scattermapbox\":[{\"marker\":{\"colorbar\":{\"outlinewidth\":0,\"ticks\":\"\"}},\"type\":\"scattermapbox\"}],\"scatterpolar\":[{\"marker\":{\"colorbar\":{\"outlinewidth\":0,\"ticks\":\"\"}},\"type\":\"scatterpolar\"}],\"scatterpolargl\":[{\"marker\":{\"colorbar\":{\"outlinewidth\":0,\"ticks\":\"\"}},\"type\":\"scatterpolargl\"}],\"scatterternary\":[{\"marker\":{\"colorbar\":{\"outlinewidth\":0,\"ticks\":\"\"}},\"type\":\"scatterternary\"}],\"surface\":[{\"colorbar\":{\"outlinewidth\":0,\"ticks\":\"\"},\"colorscale\":[[0.0,\"#0d0887\"],[0.1111111111111111,\"#46039f\"],[0.2222222222222222,\"#7201a8\"],[0.3333333333333333,\"#9c179e\"],[0.4444444444444444,\"#bd3786\"],[0.5555555555555556,\"#d8576b\"],[0.6666666666666666,\"#ed7953\"],[0.7777777777777778,\"#fb9f3a\"],[0.8888888888888888,\"#fdca26\"],[1.0,\"#f0f921\"]],\"type\":\"surface\"}],\"table\":[{\"cells\":{\"fill\":{\"color\":\"#EBF0F8\"},\"line\":{\"color\":\"white\"}},\"header\":{\"fill\":{\"color\":\"#C8D4E3\"},\"line\":{\"color\":\"white\"}},\"type\":\"table\"}]},\"layout\":{\"annotationdefaults\":{\"arrowcolor\":\"#2a3f5f\",\"arrowhead\":0,\"arrowwidth\":1},\"autotypenumbers\":\"strict\",\"coloraxis\":{\"colorbar\":{\"outlinewidth\":0,\"ticks\":\"\"}},\"colorscale\":{\"diverging\":[[0,\"#8e0152\"],[0.1,\"#c51b7d\"],[0.2,\"#de77ae\"],[0.3,\"#f1b6da\"],[0.4,\"#fde0ef\"],[0.5,\"#f7f7f7\"],[0.6,\"#e6f5d0\"],[0.7,\"#b8e186\"],[0.8,\"#7fbc41\"],[0.9,\"#4d9221\"],[1,\"#276419\"]],\"sequential\":[[0.0,\"#0d0887\"],[0.1111111111111111,\"#46039f\"],[0.2222222222222222,\"#7201a8\"],[0.3333333333333333,\"#9c179e\"],[0.4444444444444444,\"#bd3786\"],[0.5555555555555556,\"#d8576b\"],[0.6666666666666666,\"#ed7953\"],[0.7777777777777778,\"#fb9f3a\"],[0.8888888888888888,\"#fdca26\"],[1.0,\"#f0f921\"]],\"sequentialminus\":[[0.0,\"#0d0887\"],[0.1111111111111111,\"#46039f\"],[0.2222222222222222,\"#7201a8\"],[0.3333333333333333,\"#9c179e\"],[0.4444444444444444,\"#bd3786\"],[0.5555555555555556,\"#d8576b\"],[0.6666666666666666,\"#ed7953\"],[0.7777777777777778,\"#fb9f3a\"],[0.8888888888888888,\"#fdca26\"],[1.0,\"#f0f921\"]]},\"colorway\":[\"#636efa\",\"#EF553B\",\"#00cc96\",\"#ab63fa\",\"#FFA15A\",\"#19d3f3\",\"#FF6692\",\"#B6E880\",\"#FF97FF\",\"#FECB52\"],\"font\":{\"color\":\"#2a3f5f\"},\"geo\":{\"bgcolor\":\"white\",\"lakecolor\":\"white\",\"landcolor\":\"#E5ECF6\",\"showlakes\":true,\"showland\":true,\"subunitcolor\":\"white\"},\"hoverlabel\":{\"align\":\"left\"},\"hovermode\":\"closest\",\"mapbox\":{\"style\":\"light\"},\"paper_bgcolor\":\"white\",\"plot_bgcolor\":\"#E5ECF6\",\"polar\":{\"angularaxis\":{\"gridcolor\":\"white\",\"linecolor\":\"white\",\"ticks\":\"\"},\"bgcolor\":\"#E5ECF6\",\"radialaxis\":{\"gridcolor\":\"white\",\"linecolor\":\"white\",\"ticks\":\"\"}},\"scene\":{\"xaxis\":{\"backgroundcolor\":\"#E5ECF6\",\"gridcolor\":\"white\",\"gridwidth\":2,\"linecolor\":\"white\",\"showbackground\":true,\"ticks\":\"\",\"zerolinecolor\":\"white\"},\"yaxis\":{\"backgroundcolor\":\"#E5ECF6\",\"gridcolor\":\"white\",\"gridwidth\":2,\"linecolor\":\"white\",\"showbackground\":true,\"ticks\":\"\",\"zerolinecolor\":\"white\"},\"zaxis\":{\"backgroundcolor\":\"#E5ECF6\",\"gridcolor\":\"white\",\"gridwidth\":2,\"linecolor\":\"white\",\"showbackground\":true,\"ticks\":\"\",\"zerolinecolor\":\"white\"}},\"shapedefaults\":{\"line\":{\"color\":\"#2a3f5f\"}},\"ternary\":{\"aaxis\":{\"gridcolor\":\"white\",\"linecolor\":\"white\",\"ticks\":\"\"},\"baxis\":{\"gridcolor\":\"white\",\"linecolor\":\"white\",\"ticks\":\"\"},\"bgcolor\":\"#E5ECF6\",\"caxis\":{\"gridcolor\":\"white\",\"linecolor\":\"white\",\"ticks\":\"\"}},\"title\":{\"x\":0.05},\"xaxis\":{\"automargin\":true,\"gridcolor\":\"white\",\"linecolor\":\"white\",\"ticks\":\"\",\"title\":{\"standoff\":15},\"zerolinecolor\":\"white\",\"zerolinewidth\":2},\"yaxis\":{\"automargin\":true,\"gridcolor\":\"white\",\"linecolor\":\"white\",\"ticks\":\"\",\"title\":{\"standoff\":15},\"zerolinecolor\":\"white\",\"zerolinewidth\":2}}},\"xaxis\":{\"anchor\":\"y\",\"domain\":[0.0,1.0],\"title\":{\"text\":\"index\"},\"categoryorder\":\"array\",\"categoryarray\":[\"Perfect for student\",\"Compatible for NET,SET,GATE\",\"Need upgradation\",\"Overloaded for student\"]},\"yaxis\":{\"anchor\":\"x\",\"domain\":[0.0,1.0],\"title\":{\"text\":\"y\"}},\"legend\":{\"title\":{\"text\":\"index\"},\"tracegroupgap\":0},\"title\":{\"text\":\"Opinion about the present syllabus of B.Sc./M.Sc. Zoology\"},\"barmode\":\"relative\"},                        {\"responsive\": true}                    ).then(function(){\n",
              "                            \n",
              "var gd = document.getElementById('c937dfdd-7fd3-458b-9d35-ce3e708d5899');\n",
              "var x = new MutationObserver(function (mutations, observer) {{\n",
              "        var display = window.getComputedStyle(gd).display;\n",
              "        if (!display || display === 'none') {{\n",
              "            console.log([gd, 'removed!']);\n",
              "            Plotly.purge(gd);\n",
              "            observer.disconnect();\n",
              "        }}\n",
              "}});\n",
              "\n",
              "// Listen for the removal of the full notebook cells\n",
              "var notebookContainer = gd.closest('#notebook-container');\n",
              "if (notebookContainer) {{\n",
              "    x.observe(notebookContainer, {childList: true});\n",
              "}}\n",
              "\n",
              "// Listen for the clearing of the current output cell\n",
              "var outputEl = gd.closest('.output');\n",
              "if (outputEl) {{\n",
              "    x.observe(outputEl, {childList: true});\n",
              "}}\n",
              "\n",
              "                        })                };                            </script>        </div>\n",
              "</body>\n",
              "</html>"
            ]
          },
          "metadata": {}
        }
      ],
      "source": [
        "opinion = df['What do you think about present syllabus of B.Sc./ M.Sc.?'].value_counts()\n",
        "fig = px.bar(opinion, x=opinion.index, y=opinion.values, color=opinion.index, title=\"Opinion about the present syllabus of B.Sc./M.Sc. Zoology\")\n",
        "fig.show()\n"
      ]
    },
    {
      "cell_type": "code",
      "execution_count": 22,
      "metadata": {
        "colab": {
          "base_uri": "https://localhost:8080/"
        },
        "id": "3nGWAgwRYmyL",
        "outputId": "cd3d34ed-13c4-40b7-db7d-d45aff20d9ca"
      },
      "outputs": [
        {
          "output_type": "stream",
          "name": "stdout",
          "text": [
            "Percentage of students who feel that the syllabus needs upgradation:  5 %\n"
          ]
        }
      ],
      "source": [
        "need_upgradation_count = df[df['What do you think about present syllabus of B.Sc./ M.Sc.?'] == 'Need upgradation'].shape[0]\n",
        "total_students = df.shape[0]\n",
        "percentage = (need_upgradation_count / total_students) * 100\n",
        "print(\"Percentage of students who feel that the syllabus needs upgradation: \",round(percentage),\"%\")\n"
      ]
    },
    {
      "cell_type": "markdown",
      "metadata": {
        "id": "PEW9bHcSsiGV"
      },
      "source": [
        "# **Employment**"
      ]
    },
    {
      "cell_type": "markdown",
      "metadata": {
        "id": "o3XNYGerki44"
      },
      "source": [
        "\n",
        "1.  What is the employment status of the students in the dataset?\n"
      ]
    },
    {
      "cell_type": "code",
      "execution_count": 23,
      "metadata": {
        "colab": {
          "base_uri": "https://localhost:8080/"
        },
        "id": "mj-q4LkdiKA4",
        "outputId": "c06a7665-59b4-4130-e1c9-e8a294027f78"
      },
      "outputs": [
        {
          "output_type": "stream",
          "name": "stdout",
          "text": [
            "Unemployed                     128\n",
            "Employed(self employed,job)      1\n",
            "Name: Employment_status, dtype: int64\n"
          ]
        }
      ],
      "source": [
        "#Employment status of the students\n",
        "employment_status = df['Employment_status'].value_counts()\n",
        "\n",
        "print(employment_status)"
      ]
    },
    {
      "cell_type": "markdown",
      "metadata": {
        "id": "Dw2OOtbvsrdX"
      },
      "source": [
        "# **Social media platform**"
      ]
    },
    {
      "cell_type": "markdown",
      "metadata": {
        "id": "j_VeydpXsrQk"
      },
      "source": [
        "1.  What is the most popular social media platform among the students?"
      ]
    },
    {
      "cell_type": "code",
      "execution_count": 24,
      "metadata": {
        "colab": {
          "base_uri": "https://localhost:8080/"
        },
        "id": "FiDUpLo0mq46",
        "outputId": "2e1623cc-5b73-424f-851e-206b3ba98bf7"
      },
      "outputs": [
        {
          "output_type": "stream",
          "name": "stdout",
          "text": [
            "The most popular social media platform is: Youtube\n"
          ]
        }
      ],
      "source": [
        "# Count the number of occurrences of each favorite social media platform\n",
        "social_media_platform_counts = df['Favorite Social media platform'].value_counts()\n",
        "\n",
        "# Get the most popular social media platform\n",
        "most_popular_platform = social_media_platform_counts.index[0]\n",
        "\n",
        "print('The most popular social media platform is:', most_popular_platform)"
      ]
    },
    {
      "cell_type": "code",
      "execution_count": 25,
      "metadata": {
        "colab": {
          "base_uri": "https://localhost:8080/",
          "height": 542
        },
        "id": "oUZwASz6nbNc",
        "outputId": "8e592d90-6b27-4efb-9b85-f17ec473bf2d"
      },
      "outputs": [
        {
          "output_type": "display_data",
          "data": {
            "text/html": [
              "<html>\n",
              "<head><meta charset=\"utf-8\" /></head>\n",
              "<body>\n",
              "    <div>            <script src=\"https://cdnjs.cloudflare.com/ajax/libs/mathjax/2.7.5/MathJax.js?config=TeX-AMS-MML_SVG\"></script><script type=\"text/javascript\">if (window.MathJax) {MathJax.Hub.Config({SVG: {font: \"STIX-Web\"}});}</script>                <script type=\"text/javascript\">window.PlotlyConfig = {MathJaxConfig: 'local'};</script>\n",
              "        <script src=\"https://cdn.plot.ly/plotly-2.8.3.min.js\"></script>                <div id=\"6a80017e-f130-462e-bf74-3aa0bb3f60e0\" class=\"plotly-graph-div\" style=\"height:525px; width:100%;\"></div>            <script type=\"text/javascript\">                                    window.PLOTLYENV=window.PLOTLYENV || {};                                    if (document.getElementById(\"6a80017e-f130-462e-bf74-3aa0bb3f60e0\")) {                    Plotly.newPlot(                        \"6a80017e-f130-462e-bf74-3aa0bb3f60e0\",                        [{\"alignmentgroup\":\"True\",\"hovertemplate\":\"index=%{x}<br>y=%{y}<extra></extra>\",\"legendgroup\":\"Youtube\",\"marker\":{\"color\":\"#636efa\",\"pattern\":{\"shape\":\"\"}},\"name\":\"Youtube\",\"offsetgroup\":\"Youtube\",\"orientation\":\"v\",\"showlegend\":true,\"textposition\":\"auto\",\"x\":[\"Youtube\"],\"xaxis\":\"x\",\"y\":[58],\"yaxis\":\"y\",\"type\":\"bar\"},{\"alignmentgroup\":\"True\",\"hovertemplate\":\"index=%{x}<br>y=%{y}<extra></extra>\",\"legendgroup\":\"WhatsApp\",\"marker\":{\"color\":\"#EF553B\",\"pattern\":{\"shape\":\"\"}},\"name\":\"WhatsApp\",\"offsetgroup\":\"WhatsApp\",\"orientation\":\"v\",\"showlegend\":true,\"textposition\":\"auto\",\"x\":[\"WhatsApp\"],\"xaxis\":\"x\",\"y\":[38],\"yaxis\":\"y\",\"type\":\"bar\"},{\"alignmentgroup\":\"True\",\"hovertemplate\":\"index=%{x}<br>y=%{y}<extra></extra>\",\"legendgroup\":\"Facebook\",\"marker\":{\"color\":\"#00cc96\",\"pattern\":{\"shape\":\"\"}},\"name\":\"Facebook\",\"offsetgroup\":\"Facebook\",\"orientation\":\"v\",\"showlegend\":true,\"textposition\":\"auto\",\"x\":[\"Facebook\"],\"xaxis\":\"x\",\"y\":[17],\"yaxis\":\"y\",\"type\":\"bar\"},{\"alignmentgroup\":\"True\",\"hovertemplate\":\"index=%{x}<br>y=%{y}<extra></extra>\",\"legendgroup\":\"Instagram\",\"marker\":{\"color\":\"#ab63fa\",\"pattern\":{\"shape\":\"\"}},\"name\":\"Instagram\",\"offsetgroup\":\"Instagram\",\"orientation\":\"v\",\"showlegend\":true,\"textposition\":\"auto\",\"x\":[\"Instagram\"],\"xaxis\":\"x\",\"y\":[12],\"yaxis\":\"y\",\"type\":\"bar\"},{\"alignmentgroup\":\"True\",\"hovertemplate\":\"index=%{x}<br>y=%{y}<extra></extra>\",\"legendgroup\":\"Reddit\",\"marker\":{\"color\":\"#FFA15A\",\"pattern\":{\"shape\":\"\"}},\"name\":\"Reddit\",\"offsetgroup\":\"Reddit\",\"orientation\":\"v\",\"showlegend\":true,\"textposition\":\"auto\",\"x\":[\"Reddit\"],\"xaxis\":\"x\",\"y\":[1],\"yaxis\":\"y\",\"type\":\"bar\"},{\"alignmentgroup\":\"True\",\"hovertemplate\":\"index=%{x}<br>y=%{y}<extra></extra>\",\"legendgroup\":\"Telegram. \",\"marker\":{\"color\":\"#19d3f3\",\"pattern\":{\"shape\":\"\"}},\"name\":\"Telegram. \",\"offsetgroup\":\"Telegram. \",\"orientation\":\"v\",\"showlegend\":true,\"textposition\":\"auto\",\"x\":[\"Telegram. \"],\"xaxis\":\"x\",\"y\":[1],\"yaxis\":\"y\",\"type\":\"bar\"},{\"alignmentgroup\":\"True\",\"hovertemplate\":\"index=%{x}<br>y=%{y}<extra></extra>\",\"legendgroup\":\"Plus\",\"marker\":{\"color\":\"#FF6692\",\"pattern\":{\"shape\":\"\"}},\"name\":\"Plus\",\"offsetgroup\":\"Plus\",\"orientation\":\"v\",\"showlegend\":true,\"textposition\":\"auto\",\"x\":[\"Plus\"],\"xaxis\":\"x\",\"y\":[1],\"yaxis\":\"y\",\"type\":\"bar\"},{\"alignmentgroup\":\"True\",\"hovertemplate\":\"index=%{x}<br>y=%{y}<extra></extra>\",\"legendgroup\":\"Quora\",\"marker\":{\"color\":\"#B6E880\",\"pattern\":{\"shape\":\"\"}},\"name\":\"Quora\",\"offsetgroup\":\"Quora\",\"orientation\":\"v\",\"showlegend\":true,\"textposition\":\"auto\",\"x\":[\"Quora\"],\"xaxis\":\"x\",\"y\":[1],\"yaxis\":\"y\",\"type\":\"bar\"}],                        {\"template\":{\"data\":{\"bar\":[{\"error_x\":{\"color\":\"#2a3f5f\"},\"error_y\":{\"color\":\"#2a3f5f\"},\"marker\":{\"line\":{\"color\":\"#E5ECF6\",\"width\":0.5},\"pattern\":{\"fillmode\":\"overlay\",\"size\":10,\"solidity\":0.2}},\"type\":\"bar\"}],\"barpolar\":[{\"marker\":{\"line\":{\"color\":\"#E5ECF6\",\"width\":0.5},\"pattern\":{\"fillmode\":\"overlay\",\"size\":10,\"solidity\":0.2}},\"type\":\"barpolar\"}],\"carpet\":[{\"aaxis\":{\"endlinecolor\":\"#2a3f5f\",\"gridcolor\":\"white\",\"linecolor\":\"white\",\"minorgridcolor\":\"white\",\"startlinecolor\":\"#2a3f5f\"},\"baxis\":{\"endlinecolor\":\"#2a3f5f\",\"gridcolor\":\"white\",\"linecolor\":\"white\",\"minorgridcolor\":\"white\",\"startlinecolor\":\"#2a3f5f\"},\"type\":\"carpet\"}],\"choropleth\":[{\"colorbar\":{\"outlinewidth\":0,\"ticks\":\"\"},\"type\":\"choropleth\"}],\"contour\":[{\"colorbar\":{\"outlinewidth\":0,\"ticks\":\"\"},\"colorscale\":[[0.0,\"#0d0887\"],[0.1111111111111111,\"#46039f\"],[0.2222222222222222,\"#7201a8\"],[0.3333333333333333,\"#9c179e\"],[0.4444444444444444,\"#bd3786\"],[0.5555555555555556,\"#d8576b\"],[0.6666666666666666,\"#ed7953\"],[0.7777777777777778,\"#fb9f3a\"],[0.8888888888888888,\"#fdca26\"],[1.0,\"#f0f921\"]],\"type\":\"contour\"}],\"contourcarpet\":[{\"colorbar\":{\"outlinewidth\":0,\"ticks\":\"\"},\"type\":\"contourcarpet\"}],\"heatmap\":[{\"colorbar\":{\"outlinewidth\":0,\"ticks\":\"\"},\"colorscale\":[[0.0,\"#0d0887\"],[0.1111111111111111,\"#46039f\"],[0.2222222222222222,\"#7201a8\"],[0.3333333333333333,\"#9c179e\"],[0.4444444444444444,\"#bd3786\"],[0.5555555555555556,\"#d8576b\"],[0.6666666666666666,\"#ed7953\"],[0.7777777777777778,\"#fb9f3a\"],[0.8888888888888888,\"#fdca26\"],[1.0,\"#f0f921\"]],\"type\":\"heatmap\"}],\"heatmapgl\":[{\"colorbar\":{\"outlinewidth\":0,\"ticks\":\"\"},\"colorscale\":[[0.0,\"#0d0887\"],[0.1111111111111111,\"#46039f\"],[0.2222222222222222,\"#7201a8\"],[0.3333333333333333,\"#9c179e\"],[0.4444444444444444,\"#bd3786\"],[0.5555555555555556,\"#d8576b\"],[0.6666666666666666,\"#ed7953\"],[0.7777777777777778,\"#fb9f3a\"],[0.8888888888888888,\"#fdca26\"],[1.0,\"#f0f921\"]],\"type\":\"heatmapgl\"}],\"histogram\":[{\"marker\":{\"pattern\":{\"fillmode\":\"overlay\",\"size\":10,\"solidity\":0.2}},\"type\":\"histogram\"}],\"histogram2d\":[{\"colorbar\":{\"outlinewidth\":0,\"ticks\":\"\"},\"colorscale\":[[0.0,\"#0d0887\"],[0.1111111111111111,\"#46039f\"],[0.2222222222222222,\"#7201a8\"],[0.3333333333333333,\"#9c179e\"],[0.4444444444444444,\"#bd3786\"],[0.5555555555555556,\"#d8576b\"],[0.6666666666666666,\"#ed7953\"],[0.7777777777777778,\"#fb9f3a\"],[0.8888888888888888,\"#fdca26\"],[1.0,\"#f0f921\"]],\"type\":\"histogram2d\"}],\"histogram2dcontour\":[{\"colorbar\":{\"outlinewidth\":0,\"ticks\":\"\"},\"colorscale\":[[0.0,\"#0d0887\"],[0.1111111111111111,\"#46039f\"],[0.2222222222222222,\"#7201a8\"],[0.3333333333333333,\"#9c179e\"],[0.4444444444444444,\"#bd3786\"],[0.5555555555555556,\"#d8576b\"],[0.6666666666666666,\"#ed7953\"],[0.7777777777777778,\"#fb9f3a\"],[0.8888888888888888,\"#fdca26\"],[1.0,\"#f0f921\"]],\"type\":\"histogram2dcontour\"}],\"mesh3d\":[{\"colorbar\":{\"outlinewidth\":0,\"ticks\":\"\"},\"type\":\"mesh3d\"}],\"parcoords\":[{\"line\":{\"colorbar\":{\"outlinewidth\":0,\"ticks\":\"\"}},\"type\":\"parcoords\"}],\"pie\":[{\"automargin\":true,\"type\":\"pie\"}],\"scatter\":[{\"marker\":{\"colorbar\":{\"outlinewidth\":0,\"ticks\":\"\"}},\"type\":\"scatter\"}],\"scatter3d\":[{\"line\":{\"colorbar\":{\"outlinewidth\":0,\"ticks\":\"\"}},\"marker\":{\"colorbar\":{\"outlinewidth\":0,\"ticks\":\"\"}},\"type\":\"scatter3d\"}],\"scattercarpet\":[{\"marker\":{\"colorbar\":{\"outlinewidth\":0,\"ticks\":\"\"}},\"type\":\"scattercarpet\"}],\"scattergeo\":[{\"marker\":{\"colorbar\":{\"outlinewidth\":0,\"ticks\":\"\"}},\"type\":\"scattergeo\"}],\"scattergl\":[{\"marker\":{\"colorbar\":{\"outlinewidth\":0,\"ticks\":\"\"}},\"type\":\"scattergl\"}],\"scattermapbox\":[{\"marker\":{\"colorbar\":{\"outlinewidth\":0,\"ticks\":\"\"}},\"type\":\"scattermapbox\"}],\"scatterpolar\":[{\"marker\":{\"colorbar\":{\"outlinewidth\":0,\"ticks\":\"\"}},\"type\":\"scatterpolar\"}],\"scatterpolargl\":[{\"marker\":{\"colorbar\":{\"outlinewidth\":0,\"ticks\":\"\"}},\"type\":\"scatterpolargl\"}],\"scatterternary\":[{\"marker\":{\"colorbar\":{\"outlinewidth\":0,\"ticks\":\"\"}},\"type\":\"scatterternary\"}],\"surface\":[{\"colorbar\":{\"outlinewidth\":0,\"ticks\":\"\"},\"colorscale\":[[0.0,\"#0d0887\"],[0.1111111111111111,\"#46039f\"],[0.2222222222222222,\"#7201a8\"],[0.3333333333333333,\"#9c179e\"],[0.4444444444444444,\"#bd3786\"],[0.5555555555555556,\"#d8576b\"],[0.6666666666666666,\"#ed7953\"],[0.7777777777777778,\"#fb9f3a\"],[0.8888888888888888,\"#fdca26\"],[1.0,\"#f0f921\"]],\"type\":\"surface\"}],\"table\":[{\"cells\":{\"fill\":{\"color\":\"#EBF0F8\"},\"line\":{\"color\":\"white\"}},\"header\":{\"fill\":{\"color\":\"#C8D4E3\"},\"line\":{\"color\":\"white\"}},\"type\":\"table\"}]},\"layout\":{\"annotationdefaults\":{\"arrowcolor\":\"#2a3f5f\",\"arrowhead\":0,\"arrowwidth\":1},\"autotypenumbers\":\"strict\",\"coloraxis\":{\"colorbar\":{\"outlinewidth\":0,\"ticks\":\"\"}},\"colorscale\":{\"diverging\":[[0,\"#8e0152\"],[0.1,\"#c51b7d\"],[0.2,\"#de77ae\"],[0.3,\"#f1b6da\"],[0.4,\"#fde0ef\"],[0.5,\"#f7f7f7\"],[0.6,\"#e6f5d0\"],[0.7,\"#b8e186\"],[0.8,\"#7fbc41\"],[0.9,\"#4d9221\"],[1,\"#276419\"]],\"sequential\":[[0.0,\"#0d0887\"],[0.1111111111111111,\"#46039f\"],[0.2222222222222222,\"#7201a8\"],[0.3333333333333333,\"#9c179e\"],[0.4444444444444444,\"#bd3786\"],[0.5555555555555556,\"#d8576b\"],[0.6666666666666666,\"#ed7953\"],[0.7777777777777778,\"#fb9f3a\"],[0.8888888888888888,\"#fdca26\"],[1.0,\"#f0f921\"]],\"sequentialminus\":[[0.0,\"#0d0887\"],[0.1111111111111111,\"#46039f\"],[0.2222222222222222,\"#7201a8\"],[0.3333333333333333,\"#9c179e\"],[0.4444444444444444,\"#bd3786\"],[0.5555555555555556,\"#d8576b\"],[0.6666666666666666,\"#ed7953\"],[0.7777777777777778,\"#fb9f3a\"],[0.8888888888888888,\"#fdca26\"],[1.0,\"#f0f921\"]]},\"colorway\":[\"#636efa\",\"#EF553B\",\"#00cc96\",\"#ab63fa\",\"#FFA15A\",\"#19d3f3\",\"#FF6692\",\"#B6E880\",\"#FF97FF\",\"#FECB52\"],\"font\":{\"color\":\"#2a3f5f\"},\"geo\":{\"bgcolor\":\"white\",\"lakecolor\":\"white\",\"landcolor\":\"#E5ECF6\",\"showlakes\":true,\"showland\":true,\"subunitcolor\":\"white\"},\"hoverlabel\":{\"align\":\"left\"},\"hovermode\":\"closest\",\"mapbox\":{\"style\":\"light\"},\"paper_bgcolor\":\"white\",\"plot_bgcolor\":\"#E5ECF6\",\"polar\":{\"angularaxis\":{\"gridcolor\":\"white\",\"linecolor\":\"white\",\"ticks\":\"\"},\"bgcolor\":\"#E5ECF6\",\"radialaxis\":{\"gridcolor\":\"white\",\"linecolor\":\"white\",\"ticks\":\"\"}},\"scene\":{\"xaxis\":{\"backgroundcolor\":\"#E5ECF6\",\"gridcolor\":\"white\",\"gridwidth\":2,\"linecolor\":\"white\",\"showbackground\":true,\"ticks\":\"\",\"zerolinecolor\":\"white\"},\"yaxis\":{\"backgroundcolor\":\"#E5ECF6\",\"gridcolor\":\"white\",\"gridwidth\":2,\"linecolor\":\"white\",\"showbackground\":true,\"ticks\":\"\",\"zerolinecolor\":\"white\"},\"zaxis\":{\"backgroundcolor\":\"#E5ECF6\",\"gridcolor\":\"white\",\"gridwidth\":2,\"linecolor\":\"white\",\"showbackground\":true,\"ticks\":\"\",\"zerolinecolor\":\"white\"}},\"shapedefaults\":{\"line\":{\"color\":\"#2a3f5f\"}},\"ternary\":{\"aaxis\":{\"gridcolor\":\"white\",\"linecolor\":\"white\",\"ticks\":\"\"},\"baxis\":{\"gridcolor\":\"white\",\"linecolor\":\"white\",\"ticks\":\"\"},\"bgcolor\":\"#E5ECF6\",\"caxis\":{\"gridcolor\":\"white\",\"linecolor\":\"white\",\"ticks\":\"\"}},\"title\":{\"x\":0.05},\"xaxis\":{\"automargin\":true,\"gridcolor\":\"white\",\"linecolor\":\"white\",\"ticks\":\"\",\"title\":{\"standoff\":15},\"zerolinecolor\":\"white\",\"zerolinewidth\":2},\"yaxis\":{\"automargin\":true,\"gridcolor\":\"white\",\"linecolor\":\"white\",\"ticks\":\"\",\"title\":{\"standoff\":15},\"zerolinecolor\":\"white\",\"zerolinewidth\":2}}},\"xaxis\":{\"anchor\":\"y\",\"domain\":[0.0,1.0],\"title\":{\"text\":\"index\"},\"categoryorder\":\"array\",\"categoryarray\":[\"Youtube\",\"WhatsApp\",\"Facebook\",\"Instagram\",\"Reddit\",\"Telegram. \",\"Plus\",\"Quora\"]},\"yaxis\":{\"anchor\":\"x\",\"domain\":[0.0,1.0],\"title\":{\"text\":\"y\"}},\"legend\":{\"title\":{\"text\":\"index\"},\"tracegroupgap\":0},\"title\":{\"text\":\"popular social media platform among the students\"},\"barmode\":\"relative\"},                        {\"responsive\": true}                    ).then(function(){\n",
              "                            \n",
              "var gd = document.getElementById('6a80017e-f130-462e-bf74-3aa0bb3f60e0');\n",
              "var x = new MutationObserver(function (mutations, observer) {{\n",
              "        var display = window.getComputedStyle(gd).display;\n",
              "        if (!display || display === 'none') {{\n",
              "            console.log([gd, 'removed!']);\n",
              "            Plotly.purge(gd);\n",
              "            observer.disconnect();\n",
              "        }}\n",
              "}});\n",
              "\n",
              "// Listen for the removal of the full notebook cells\n",
              "var notebookContainer = gd.closest('#notebook-container');\n",
              "if (notebookContainer) {{\n",
              "    x.observe(notebookContainer, {childList: true});\n",
              "}}\n",
              "\n",
              "// Listen for the clearing of the current output cell\n",
              "var outputEl = gd.closest('.output');\n",
              "if (outputEl) {{\n",
              "    x.observe(outputEl, {childList: true});\n",
              "}}\n",
              "\n",
              "                        })                };                            </script>        </div>\n",
              "</body>\n",
              "</html>"
            ]
          },
          "metadata": {}
        }
      ],
      "source": [
        "fig = px.bar(social_media_platform_counts, x=social_media_platform_counts.index, y=social_media_platform_counts.values, color=social_media_platform_counts.index, title=\"popular social media platform among the students\")\n",
        "fig.show()"
      ]
    },
    {
      "cell_type": "markdown",
      "metadata": {
        "id": "SKZMbhn4MTbR"
      },
      "source": [
        "# **Course Affordability**"
      ]
    },
    {
      "cell_type": "markdown",
      "metadata": {
        "id": "EpzXYoX9whY2"
      },
      "source": [
        "**Hypothesis**\n",
        "\n",
        "> If the family income <= 20,000 then student can't afford the course college provide.\n",
        "\n"
      ]
    },
    {
      "cell_type": "code",
      "execution_count": 26,
      "metadata": {
        "colab": {
          "base_uri": "https://localhost:8080/"
        },
        "id": "WQRDZHQ5n_6G",
        "outputId": "3d38ce58-ea89-43a1-acaa-36ac325c2364"
      },
      "outputs": [
        {
          "output_type": "stream",
          "name": "stdout",
          "text": [
            "Student 1 can afford further study: True\n",
            "Student 2 can afford further study: True\n",
            "Student 3 can afford further study: True\n",
            "Student 4 can afford further study: False\n",
            "Student 5 can afford further study: False\n",
            "Student 6 can afford further study: False\n",
            "Student 7 can afford further study: False\n",
            "Student 8 can afford further study: False\n",
            "Student 9 can afford further study: False\n",
            "Student 10 can afford further study: False\n",
            "Student 11 can afford further study: False\n",
            "Student 12 can afford further study: False\n",
            "Student 13 can afford further study: False\n",
            "Student 14 can afford further study: True\n",
            "Student 15 can afford further study: False\n",
            "Student 16 can afford further study: False\n",
            "Student 17 can afford further study: False\n",
            "Student 18 can afford further study: True\n",
            "Student 19 can afford further study: True\n",
            "Student 20 can afford further study: False\n",
            "Student 21 can afford further study: False\n",
            "Student 22 can afford further study: False\n",
            "Student 23 can afford further study: False\n",
            "Student 24 can afford further study: False\n",
            "Student 25 can afford further study: False\n",
            "Student 26 can afford further study: False\n",
            "Student 27 can afford further study: False\n",
            "Student 28 can afford further study: False\n",
            "Student 29 can afford further study: False\n",
            "Student 30 can afford further study: False\n",
            "Student 31 can afford further study: False\n",
            "Student 32 can afford further study: False\n",
            "Student 33 can afford further study: False\n",
            "Student 34 can afford further study: False\n",
            "Student 35 can afford further study: False\n",
            "Student 36 can afford further study: True\n",
            "Student 37 can afford further study: True\n",
            "Student 38 can afford further study: True\n",
            "Student 39 can afford further study: False\n",
            "Student 40 can afford further study: False\n",
            "Student 41 can afford further study: False\n",
            "Student 42 can afford further study: False\n",
            "Student 43 can afford further study: False\n",
            "Student 44 can afford further study: False\n",
            "Student 45 can afford further study: False\n",
            "Student 46 can afford further study: False\n",
            "Student 47 can afford further study: False\n",
            "Student 48 can afford further study: False\n",
            "Student 49 can afford further study: False\n",
            "Student 50 can afford further study: False\n",
            "Student 51 can afford further study: False\n",
            "Student 52 can afford further study: False\n",
            "Student 53 can afford further study: False\n",
            "Student 54 can afford further study: False\n",
            "Student 55 can afford further study: False\n",
            "Student 56 can afford further study: False\n",
            "Student 57 can afford further study: False\n",
            "Student 58 can afford further study: False\n",
            "Student 59 can afford further study: False\n",
            "Student 60 can afford further study: False\n",
            "Student 61 can afford further study: False\n",
            "Student 62 can afford further study: False\n",
            "Student 63 can afford further study: False\n",
            "Student 64 can afford further study: False\n",
            "Student 65 can afford further study: True\n",
            "Student 66 can afford further study: False\n",
            "Student 67 can afford further study: True\n",
            "Student 68 can afford further study: False\n",
            "Student 69 can afford further study: False\n",
            "Student 70 can afford further study: False\n",
            "Student 71 can afford further study: False\n",
            "Student 72 can afford further study: False\n",
            "Student 73 can afford further study: False\n",
            "Student 74 can afford further study: False\n",
            "Student 75 can afford further study: False\n",
            "Student 76 can afford further study: False\n",
            "Student 77 can afford further study: False\n",
            "Student 78 can afford further study: False\n",
            "Student 79 can afford further study: False\n",
            "Student 80 can afford further study: False\n",
            "Student 81 can afford further study: False\n",
            "Student 82 can afford further study: False\n",
            "Student 83 can afford further study: True\n",
            "Student 84 can afford further study: False\n",
            "Student 85 can afford further study: False\n",
            "Student 86 can afford further study: False\n",
            "Student 87 can afford further study: False\n",
            "Student 88 can afford further study: False\n",
            "Student 89 can afford further study: False\n",
            "Student 90 can afford further study: False\n",
            "Student 91 can afford further study: False\n",
            "Student 92 can afford further study: False\n",
            "Student 93 can afford further study: False\n",
            "Student 94 can afford further study: False\n",
            "Student 95 can afford further study: False\n",
            "Student 96 can afford further study: False\n",
            "Student 97 can afford further study: False\n",
            "Student 98 can afford further study: True\n",
            "Student 99 can afford further study: True\n",
            "Student 100 can afford further study: True\n",
            "Student 101 can afford further study: False\n",
            "Student 102 can afford further study: False\n",
            "Student 103 can afford further study: False\n",
            "Student 104 can afford further study: False\n",
            "Student 105 can afford further study: True\n",
            "Student 106 can afford further study: False\n",
            "Student 107 can afford further study: False\n",
            "Student 108 can afford further study: True\n",
            "Student 109 can afford further study: False\n",
            "Student 110 can afford further study: False\n",
            "Student 111 can afford further study: False\n",
            "Student 112 can afford further study: False\n",
            "Student 113 can afford further study: False\n",
            "Student 114 can afford further study: False\n",
            "Student 115 can afford further study: True\n",
            "Student 116 can afford further study: False\n",
            "Student 117 can afford further study: False\n",
            "Student 118 can afford further study: False\n",
            "Student 119 can afford further study: False\n",
            "Student 120 can afford further study: False\n",
            "Student 121 can afford further study: False\n",
            "Student 122 can afford further study: False\n",
            "Student 123 can afford further study: False\n",
            "Student 124 can afford further study: False\n",
            "Student 125 can afford further study: False\n",
            "Student 126 can afford further study: False\n",
            "Student 127 can afford further study: False\n",
            "Student 128 can afford further study: False\n",
            "Student 129 can afford further study: False\n"
          ]
        }
      ],
      "source": [
        "# Define a threshold for what can be considered \"affordable\" pocket money\n",
        "pocket_money_threshold = 1000\n",
        "\n",
        "# Define a threshold for what can be considered \"affordable\" family income\n",
        "family_income_threshold = 10000\n",
        "\n",
        "# Define the college fees per month\n",
        "college_fees_per_month = 1000\n",
        "\n",
        "# Create a new column indicating whether the student can afford further study\n",
        "df['Can_afford_further_study'] = (\n",
        "    (df['Pocket_money'] >= pocket_money_threshold) &\n",
        "    (df['family_income_monthly'] >= family_income_threshold) &\n",
        "    (df['family_income_monthly'] >= college_fees_per_month * 12)\n",
        ")\n",
        "\n",
        "# Print the result for each student\n",
        "for i, row in df.iterrows():\n",
        "    print(f\"Student {i+1} can afford further study: {row['Can_afford_further_study']}\")\n",
        "\n",
        "\n",
        "\n"
      ]
    },
    {
      "cell_type": "markdown",
      "source": [
        "# **Extra**"
      ],
      "metadata": {
        "id": "DT42gbBuwhsm"
      }
    },
    {
      "cell_type": "code",
      "execution_count": 27,
      "metadata": {
        "colab": {
          "base_uri": "https://localhost:8080/"
        },
        "id": "lHFGpkkupM4z",
        "outputId": "6082f0bf-0de9-4b61-f07d-0e6323dfb758"
      },
      "outputs": [
        {
          "output_type": "execute_result",
          "data": {
            "text/plain": [
              "3000     34\n",
              "500      21\n",
              "1000     20\n",
              "2000     17\n",
              "5000      9\n",
              "0         6\n",
              "10000     5\n",
              "1500      4\n",
              "200       3\n",
              "250       3\n",
              "1200      2\n",
              "700       1\n",
              "4800      1\n",
              "4000      1\n",
              "600       1\n",
              "650       1\n",
              "Name: Pocket_money, dtype: int64"
            ]
          },
          "metadata": {},
          "execution_count": 27
        }
      ],
      "source": [
        "pocket_money_value_count=df['Pocket_money'].value_counts()\n",
        "pocket_money_value_count\n"
      ]
    },
    {
      "cell_type": "code",
      "execution_count": 28,
      "metadata": {
        "colab": {
          "base_uri": "https://localhost:8080/"
        },
        "id": "LKE48kqFsqyG",
        "outputId": "97778e95-252f-49b3-d6a1-a906bc30801f"
      },
      "outputs": [
        {
          "output_type": "execute_result",
          "data": {
            "text/plain": [
              "5000      35\n",
              "10000     24\n",
              "3000      21\n",
              "4000       8\n",
              "6000       6\n",
              "60000      4\n",
              "15000      4\n",
              "7000       4\n",
              "30000      3\n",
              "35000      3\n",
              "20000      3\n",
              "25000      2\n",
              "9000       2\n",
              "8000       2\n",
              "50000      1\n",
              "42000      1\n",
              "2000       1\n",
              "4800       1\n",
              "8500       1\n",
              "12000      1\n",
              "3700       1\n",
              "100000     1\n",
              "Name: family_income_monthly, dtype: int64"
            ]
          },
          "metadata": {},
          "execution_count": 28
        }
      ],
      "source": [
        "Family_income_value_count=df['family_income_monthly'].value_counts()\n",
        "Family_income_value_count"
      ]
    },
    {
      "cell_type": "code",
      "execution_count": 29,
      "metadata": {
        "colab": {
          "base_uri": "https://localhost:8080/"
        },
        "id": "75TrOW_E5hc8",
        "outputId": "0861cf95-5ee7-4932-8d4c-4b95bd7405b0"
      },
      "outputs": [
        {
          "output_type": "stream",
          "name": "stdout",
          "text": [
            "6       200\n",
            "8       700\n",
            "26     3000\n",
            "29     5000\n",
            "31     2000\n",
            "32     2000\n",
            "40     1000\n",
            "41     2000\n",
            "43     2000\n",
            "52     2000\n",
            "57     1000\n",
            "58     2000\n",
            "61     3000\n",
            "62     2000\n",
            "63     2000\n",
            "69      500\n",
            "84     2000\n",
            "93     3000\n",
            "96      650\n",
            "120    2000\n",
            "127    2000\n",
            "128       0\n",
            "Name: Pocket_money, dtype: int64\n"
          ]
        }
      ],
      "source": [
        "df_low_income = df[(df['family_income_monthly'] <= 5000) & (df['family_income_monthly'] <= 3000)]\n",
        "pocket_money = df_low_income['Pocket_money']\n",
        "print(pocket_money)"
      ]
    },
    {
      "cell_type": "code",
      "execution_count": 29,
      "metadata": {
        "id": "ekqJF2O0wB90"
      },
      "outputs": [],
      "source": []
    }
  ],
  "metadata": {
    "colab": {
      "provenance": [],
      "authorship_tag": "ABX9TyM6BsTT3U+wUbBO/z9zGYfR",
      "include_colab_link": true
    },
    "kernelspec": {
      "display_name": "Python 3",
      "name": "python3"
    },
    "language_info": {
      "name": "python"
    }
  },
  "nbformat": 4,
  "nbformat_minor": 0
}